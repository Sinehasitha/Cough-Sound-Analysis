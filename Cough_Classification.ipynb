{
  "metadata": {
    "kernelspec": {
      "language": "python",
      "display_name": "Python 3",
      "name": "python3"
    },
    "language_info": {
      "pygments_lexer": "ipython3",
      "nbconvert_exporter": "python",
      "version": "3.6.4",
      "file_extension": ".py",
      "codemirror_mode": {
        "name": "ipython",
        "version": 3
      },
      "name": "python",
      "mimetype": "text/x-python"
    },
    "colab": {
      "provenance": []
    }
  },
  "nbformat_minor": 0,
  "nbformat": 4,
  "cells": [
    {
      "source": [
        "import kagglehub\n",
        "himanshu007121_coughclassifier_trial_path = kagglehub.dataset_download('himanshu007121/coughclassifier-trial')\n",
        "\n",
        "print('Data source import complete.')\n"
      ],
      "metadata": {
        "id": "fm212yny8ht0",
        "outputId": "6b8c1afd-4e35-41b3-a3e0-8adc7fbd384c",
        "colab": {
          "base_uri": "https://localhost:8080/"
        }
      },
      "cell_type": "code",
      "outputs": [
        {
          "output_type": "stream",
          "name": "stdout",
          "text": [
            "Downloading from https://www.kaggle.com/api/v1/datasets/download/himanshu007121/coughclassifier-trial?dataset_version_number=22...\n"
          ]
        },
        {
          "output_type": "stream",
          "name": "stderr",
          "text": [
            "100%|██████████| 94.9M/94.9M [00:02<00:00, 48.9MB/s]"
          ]
        },
        {
          "output_type": "stream",
          "name": "stdout",
          "text": [
            "Extracting files...\n"
          ]
        },
        {
          "output_type": "stream",
          "name": "stderr",
          "text": [
            "\n"
          ]
        },
        {
          "output_type": "stream",
          "name": "stdout",
          "text": [
            "Data source import complete.\n"
          ]
        }
      ],
      "execution_count": null
    },
    {
      "cell_type": "markdown",
      "source": [
        "# Cough Analysis notebook"
      ],
      "metadata": {
        "_uuid": "2ff1ff08-83c8-464f-a651-c719219019ed",
        "_cell_guid": "fd0dd4ff-3643-447d-b193-08584ce0471d",
        "id": "cNnM2w-HCeb1",
        "trusted": true
      }
    },
    {
      "cell_type": "markdown",
      "source": [
        "## Importing Libraries"
      ],
      "metadata": {
        "_uuid": "d2399484-1c12-4178-a57e-9496bbf5321a",
        "_cell_guid": "3c797aa6-f285-43f2-b812-3b719260e024",
        "id": "2l3sppZMCydR",
        "trusted": true
      }
    },
    {
      "cell_type": "code",
      "source": [
        "# feature extracting\n",
        "import librosa\n",
        "import pandas as pd\n",
        "import numpy as np\n",
        "import matplotlib.pyplot as plt\n",
        "%matplotlib inline\n",
        "import os\n",
        "from PIL import Image\n",
        "import pathlib\n",
        "import csv\n",
        "\n",
        "# Preprocessing\n",
        "from sklearn.model_selection import train_test_split\n",
        "from sklearn.preprocessing import LabelEncoder, StandardScaler\n",
        "\n",
        "#Keras\n",
        "import keras\n",
        "\n",
        "import warnings\n",
        "warnings.filterwarnings('ignore')\n",
        "\n",
        "from sklearn.preprocessing import LabelEncoder, scale, StandardScaler\n",
        "from sklearn.model_selection import train_test_split\n",
        "from sklearn.metrics import classification_report, confusion_matrix, accuracy_score\n",
        "from sklearn.decomposition import PCA\n",
        "from sklearn.linear_model import LogisticRegression\n",
        "from keras.utils import to_categorical\n",
        "from keras.models import Sequential, Model, load_model\n",
        "from tensorflow.keras.layers import BatchNormalization\n",
        "from keras.layers import Dense, Dropout, Activation, Flatten\n",
        "from keras.layers import Convolution2D, Conv2D, MaxPooling2D, GlobalAveragePooling2D, UpSampling2D, Input\n",
        "from keras.optimizers import Adam\n",
        "from tensorflow.keras.utils import to_categorical\n",
        "from keras.callbacks import ModelCheckpoint, EarlyStopping, ReduceLROnPlateau\n",
        "from keras import optimizers\n",
        "from keras.regularizers import l1\n",
        "from tensorflow.keras.utils import plot_model\n",
        "from datetime import datetime\n",
        "from sklearn import metrics\n",
        "import librosa, librosa.display, os, csv\n",
        "import pandas as pd\n",
        "import numpy as np\n",
        "import matplotlib\n",
        "import matplotlib.pyplot as plt\n",
        "import pylab\n",
        "plt.switch_backend('agg')\n",
        "import itertools\n",
        "import scipy as sp\n",
        "from scipy import signal\n",
        "import xgboost as xgb\n",
        "import joblib\n",
        "from glob import glob\n",
        "import urllib\n",
        "from tensorflow.keras.models import Sequential\n",
        "from tensorflow.keras.layers import Conv2D, Flatten, Dense, MaxPool2D, Dropout\n",
        "from tensorflow.keras.utils import to_categorical\n",
        "\n",
        "from sklearn.ensemble import RandomForestClassifier\n",
        "from sklearn.svm import SVC\n",
        "\n",
        "# Libraries\n",
        "\n",
        "import pandas as pd\n",
        "import numpy as np\n",
        "\n",
        "pd.plotting.register_matplotlib_converters()\n",
        "import matplotlib.pyplot as plt\n",
        "%matplotlib inline\n",
        "import seaborn as sns\n",
        "\n",
        "from sklearn.model_selection import train_test_split\n",
        "from sklearn.metrics import classification_report\n",
        "from sklearn.model_selection import GridSearchCV\n",
        "\n",
        "from sklearn.preprocessing import MinMaxScaler"
      ],
      "metadata": {
        "_uuid": "2e91031d-59cf-4318-886b-0f337c5e0cee",
        "_cell_guid": "f1ecbc69-fc3c-48d8-b3cb-1819c66590b3",
        "id": "Gt3fyg6dCNvX",
        "jupyter": {
          "outputs_hidden": false
        },
        "execution": {
          "iopub.status.busy": "2021-05-25T18:18:04.454966Z",
          "iopub.execute_input": "2021-05-25T18:18:04.455514Z",
          "iopub.status.idle": "2021-05-25T18:18:14.005652Z",
          "shell.execute_reply.started": "2021-05-25T18:18:04.455466Z",
          "shell.execute_reply": "2021-05-25T18:18:14.004626Z"
        },
        "trusted": true
      },
      "execution_count": null,
      "outputs": []
    },
    {
      "cell_type": "markdown",
      "source": [
        "## Spectrogram Extraction for every Audio File"
      ],
      "metadata": {
        "_uuid": "70be0637-6e5d-47ad-a9ce-0c64a0c90e6c",
        "_cell_guid": "69ef1712-d999-4555-a945-92f62b51fefc",
        "id": "AfBSVfRCD3PE",
        "trusted": true
      }
    },
    {
      "cell_type": "code",
      "source": [
        "#Loading CSV file\n",
        "train_csv = pd.read_csv(\"/root/.cache/Data/datasets/Sineha/coughclassifier-trial/Setup/25/cough_trial2.csv\")\n",
        "dataset = \"/root/.cache/Data/datasets/Sineha/coughclassifier-trial/Setup/25/cough_trial2.csv\"\n",
        "train_csv"
      ],
      "metadata": {
        "_uuid": "534ff3de-1807-47fe-8fdc-1ba6bd8a0247",
        "_cell_guid": "11c2769a-f559-484d-beec-cfb509ad2040",
        "jupyter": {
          "outputs_hidden": false
        },
        "execution": {
          "iopub.status.busy": "2021-05-25T18:18:14.007534Z",
          "iopub.execute_input": "2021-05-25T18:18:14.007957Z",
          "iopub.status.idle": "2021-05-25T18:18:14.076013Z",
          "shell.execute_reply.started": "2021-05-25T18:18:14.007902Z",
          "shell.execute_reply": "2021-05-25T18:18:14.075142Z"
        },
        "trusted": true,
        "id": "q6IK2YI48ht9",
        "outputId": "729415b3-ea80-4884-9601-3a8d8fdd600e",
        "colab": {
          "base_uri": "https://localhost:8080/",
          "height": 423
        }
      },
      "execution_count": null,
      "outputs": [
        {
          "output_type": "execute_result",
          "data": {
            "text/plain": [
              "                       file_properties            class\n",
              "0      0v8MGxNetjg_ 10.000_ 20.000.wav  not_respdisease\n",
              "1      1j1duoxdxBg_ 70.000_ 80.000.wav  not_respdisease\n",
              "2    1MSYO4wgiag_ 120.000_ 130.000.wav  not_respdisease\n",
              "3       1PajbAKd8Kg_ 0.000_ 10.000.wav  not_respdisease\n",
              "4                             cov1.wav      respdisease\n",
              "..                                 ...              ...\n",
              "165    -bZrDCS8KAg_ 70.000_ 80.000.wav  not_respdisease\n",
              "166      -ej81N6Aqo4_ 0.000_ 8.000.wav  not_respdisease\n",
              "167   -gvLnl1smfs_ 90.000_ 100.000.wav  not_respdisease\n",
              "168    -hu5q-Nn4BM_ 70.000_ 80.000.wav  not_respdisease\n",
              "169    -jLQkyDhIxw_ 10.000_ 20.000.wav  not_respdisease\n",
              "\n",
              "[170 rows x 2 columns]"
            ],
            "text/html": [
              "\n",
              "  <div id=\"df-a663378e-dab1-4b55-a98c-fd0e3a5df174\" class=\"colab-df-container\">\n",
              "    <div>\n",
              "<style scoped>\n",
              "    .dataframe tbody tr th:only-of-type {\n",
              "        vertical-align: middle;\n",
              "    }\n",
              "\n",
              "    .dataframe tbody tr th {\n",
              "        vertical-align: top;\n",
              "    }\n",
              "\n",
              "    .dataframe thead th {\n",
              "        text-align: right;\n",
              "    }\n",
              "</style>\n",
              "<table border=\"1\" class=\"dataframe\">\n",
              "  <thead>\n",
              "    <tr style=\"text-align: right;\">\n",
              "      <th></th>\n",
              "      <th>file_properties</th>\n",
              "      <th>class</th>\n",
              "    </tr>\n",
              "  </thead>\n",
              "  <tbody>\n",
              "    <tr>\n",
              "      <th>0</th>\n",
              "      <td>0v8MGxNetjg_ 10.000_ 20.000.wav</td>\n",
              "      <td>not_respdisease</td>\n",
              "    </tr>\n",
              "    <tr>\n",
              "      <th>1</th>\n",
              "      <td>1j1duoxdxBg_ 70.000_ 80.000.wav</td>\n",
              "      <td>not_respdisease</td>\n",
              "    </tr>\n",
              "    <tr>\n",
              "      <th>2</th>\n",
              "      <td>1MSYO4wgiag_ 120.000_ 130.000.wav</td>\n",
              "      <td>not_respdisease</td>\n",
              "    </tr>\n",
              "    <tr>\n",
              "      <th>3</th>\n",
              "      <td>1PajbAKd8Kg_ 0.000_ 10.000.wav</td>\n",
              "      <td>not_respdisease</td>\n",
              "    </tr>\n",
              "    <tr>\n",
              "      <th>4</th>\n",
              "      <td>cov1.wav</td>\n",
              "      <td>respdisease</td>\n",
              "    </tr>\n",
              "    <tr>\n",
              "      <th>...</th>\n",
              "      <td>...</td>\n",
              "      <td>...</td>\n",
              "    </tr>\n",
              "    <tr>\n",
              "      <th>165</th>\n",
              "      <td>-bZrDCS8KAg_ 70.000_ 80.000.wav</td>\n",
              "      <td>not_respdisease</td>\n",
              "    </tr>\n",
              "    <tr>\n",
              "      <th>166</th>\n",
              "      <td>-ej81N6Aqo4_ 0.000_ 8.000.wav</td>\n",
              "      <td>not_respdisease</td>\n",
              "    </tr>\n",
              "    <tr>\n",
              "      <th>167</th>\n",
              "      <td>-gvLnl1smfs_ 90.000_ 100.000.wav</td>\n",
              "      <td>not_respdisease</td>\n",
              "    </tr>\n",
              "    <tr>\n",
              "      <th>168</th>\n",
              "      <td>-hu5q-Nn4BM_ 70.000_ 80.000.wav</td>\n",
              "      <td>not_respdisease</td>\n",
              "    </tr>\n",
              "    <tr>\n",
              "      <th>169</th>\n",
              "      <td>-jLQkyDhIxw_ 10.000_ 20.000.wav</td>\n",
              "      <td>not_respdisease</td>\n",
              "    </tr>\n",
              "  </tbody>\n",
              "</table>\n",
              "<p>170 rows × 2 columns</p>\n",
              "</div>\n",
              "    <div class=\"colab-df-buttons\">\n",
              "\n",
              "  <div class=\"colab-df-container\">\n",
              "    <button class=\"colab-df-convert\" onclick=\"convertToInteractive('df-a663378e-dab1-4b55-a98c-fd0e3a5df174')\"\n",
              "            title=\"Convert this dataframe to an interactive table.\"\n",
              "            style=\"display:none;\">\n",
              "\n",
              "  <svg xmlns=\"http://www.w3.org/2000/svg\" height=\"24px\" viewBox=\"0 -960 960 960\">\n",
              "    <path d=\"M120-120v-720h720v720H120Zm60-500h600v-160H180v160Zm220 220h160v-160H400v160Zm0 220h160v-160H400v160ZM180-400h160v-160H180v160Zm440 0h160v-160H620v160ZM180-180h160v-160H180v160Zm440 0h160v-160H620v160Z\"/>\n",
              "  </svg>\n",
              "    </button>\n",
              "\n",
              "  <style>\n",
              "    .colab-df-container {\n",
              "      display:flex;\n",
              "      gap: 12px;\n",
              "    }\n",
              "\n",
              "    .colab-df-convert {\n",
              "      background-color: #E8F0FE;\n",
              "      border: none;\n",
              "      border-radius: 50%;\n",
              "      cursor: pointer;\n",
              "      display: none;\n",
              "      fill: #1967D2;\n",
              "      height: 32px;\n",
              "      padding: 0 0 0 0;\n",
              "      width: 32px;\n",
              "    }\n",
              "\n",
              "    .colab-df-convert:hover {\n",
              "      background-color: #E2EBFA;\n",
              "      box-shadow: 0px 1px 2px rgba(60, 64, 67, 0.3), 0px 1px 3px 1px rgba(60, 64, 67, 0.15);\n",
              "      fill: #174EA6;\n",
              "    }\n",
              "\n",
              "    .colab-df-buttons div {\n",
              "      margin-bottom: 4px;\n",
              "    }\n",
              "\n",
              "    [theme=dark] .colab-df-convert {\n",
              "      background-color: #3B4455;\n",
              "      fill: #D2E3FC;\n",
              "    }\n",
              "\n",
              "    [theme=dark] .colab-df-convert:hover {\n",
              "      background-color: #434B5C;\n",
              "      box-shadow: 0px 1px 3px 1px rgba(0, 0, 0, 0.15);\n",
              "      filter: drop-shadow(0px 1px 2px rgba(0, 0, 0, 0.3));\n",
              "      fill: #FFFFFF;\n",
              "    }\n",
              "  </style>\n",
              "\n",
              "    <script>\n",
              "      const buttonEl =\n",
              "        document.querySelector('#df-a663378e-dab1-4b55-a98c-fd0e3a5df174 button.colab-df-convert');\n",
              "      buttonEl.style.display =\n",
              "        google.colab.kernel.accessAllowed ? 'block' : 'none';\n",
              "\n",
              "      async function convertToInteractive(key) {\n",
              "        const element = document.querySelector('#df-a663378e-dab1-4b55-a98c-fd0e3a5df174');\n",
              "        const dataTable =\n",
              "          await google.colab.kernel.invokeFunction('convertToInteractive',\n",
              "                                                    [key], {});\n",
              "        if (!dataTable) return;\n",
              "\n",
              "        const docLinkHtml = 'Like what you see? Visit the ' +\n",
              "          '<a target=\"_blank\" href=https://colab.research.google.com/notebooks/data_table.ipynb>data table notebook</a>'\n",
              "          + ' to learn more about interactive tables.';\n",
              "        element.innerHTML = '';\n",
              "        dataTable['output_type'] = 'display_data';\n",
              "        await google.colab.output.renderOutput(dataTable, element);\n",
              "        const docLink = document.createElement('div');\n",
              "        docLink.innerHTML = docLinkHtml;\n",
              "        element.appendChild(docLink);\n",
              "      }\n",
              "    </script>\n",
              "  </div>\n",
              "\n",
              "\n",
              "<div id=\"df-ca554c93-0834-45df-ac5a-fe1dbc87ad39\">\n",
              "  <button class=\"colab-df-quickchart\" onclick=\"quickchart('df-ca554c93-0834-45df-ac5a-fe1dbc87ad39')\"\n",
              "            title=\"Suggest charts\"\n",
              "            style=\"display:none;\">\n",
              "\n",
              "<svg xmlns=\"http://www.w3.org/2000/svg\" height=\"24px\"viewBox=\"0 0 24 24\"\n",
              "     width=\"24px\">\n",
              "    <g>\n",
              "        <path d=\"M19 3H5c-1.1 0-2 .9-2 2v14c0 1.1.9 2 2 2h14c1.1 0 2-.9 2-2V5c0-1.1-.9-2-2-2zM9 17H7v-7h2v7zm4 0h-2V7h2v10zm4 0h-2v-4h2v4z\"/>\n",
              "    </g>\n",
              "</svg>\n",
              "  </button>\n",
              "\n",
              "<style>\n",
              "  .colab-df-quickchart {\n",
              "      --bg-color: #E8F0FE;\n",
              "      --fill-color: #1967D2;\n",
              "      --hover-bg-color: #E2EBFA;\n",
              "      --hover-fill-color: #174EA6;\n",
              "      --disabled-fill-color: #AAA;\n",
              "      --disabled-bg-color: #DDD;\n",
              "  }\n",
              "\n",
              "  [theme=dark] .colab-df-quickchart {\n",
              "      --bg-color: #3B4455;\n",
              "      --fill-color: #D2E3FC;\n",
              "      --hover-bg-color: #434B5C;\n",
              "      --hover-fill-color: #FFFFFF;\n",
              "      --disabled-bg-color: #3B4455;\n",
              "      --disabled-fill-color: #666;\n",
              "  }\n",
              "\n",
              "  .colab-df-quickchart {\n",
              "    background-color: var(--bg-color);\n",
              "    border: none;\n",
              "    border-radius: 50%;\n",
              "    cursor: pointer;\n",
              "    display: none;\n",
              "    fill: var(--fill-color);\n",
              "    height: 32px;\n",
              "    padding: 0;\n",
              "    width: 32px;\n",
              "  }\n",
              "\n",
              "  .colab-df-quickchart:hover {\n",
              "    background-color: var(--hover-bg-color);\n",
              "    box-shadow: 0 1px 2px rgba(60, 64, 67, 0.3), 0 1px 3px 1px rgba(60, 64, 67, 0.15);\n",
              "    fill: var(--button-hover-fill-color);\n",
              "  }\n",
              "\n",
              "  .colab-df-quickchart-complete:disabled,\n",
              "  .colab-df-quickchart-complete:disabled:hover {\n",
              "    background-color: var(--disabled-bg-color);\n",
              "    fill: var(--disabled-fill-color);\n",
              "    box-shadow: none;\n",
              "  }\n",
              "\n",
              "  .colab-df-spinner {\n",
              "    border: 2px solid var(--fill-color);\n",
              "    border-color: transparent;\n",
              "    border-bottom-color: var(--fill-color);\n",
              "    animation:\n",
              "      spin 1s steps(1) infinite;\n",
              "  }\n",
              "\n",
              "  @keyframes spin {\n",
              "    0% {\n",
              "      border-color: transparent;\n",
              "      border-bottom-color: var(--fill-color);\n",
              "      border-left-color: var(--fill-color);\n",
              "    }\n",
              "    20% {\n",
              "      border-color: transparent;\n",
              "      border-left-color: var(--fill-color);\n",
              "      border-top-color: var(--fill-color);\n",
              "    }\n",
              "    30% {\n",
              "      border-color: transparent;\n",
              "      border-left-color: var(--fill-color);\n",
              "      border-top-color: var(--fill-color);\n",
              "      border-right-color: var(--fill-color);\n",
              "    }\n",
              "    40% {\n",
              "      border-color: transparent;\n",
              "      border-right-color: var(--fill-color);\n",
              "      border-top-color: var(--fill-color);\n",
              "    }\n",
              "    60% {\n",
              "      border-color: transparent;\n",
              "      border-right-color: var(--fill-color);\n",
              "    }\n",
              "    80% {\n",
              "      border-color: transparent;\n",
              "      border-right-color: var(--fill-color);\n",
              "      border-bottom-color: var(--fill-color);\n",
              "    }\n",
              "    90% {\n",
              "      border-color: transparent;\n",
              "      border-bottom-color: var(--fill-color);\n",
              "    }\n",
              "  }\n",
              "</style>\n",
              "\n",
              "  <script>\n",
              "    async function quickchart(key) {\n",
              "      const quickchartButtonEl =\n",
              "        document.querySelector('#' + key + ' button');\n",
              "      quickchartButtonEl.disabled = true;  // To prevent multiple clicks.\n",
              "      quickchartButtonEl.classList.add('colab-df-spinner');\n",
              "      try {\n",
              "        const charts = await google.colab.kernel.invokeFunction(\n",
              "            'suggestCharts', [key], {});\n",
              "      } catch (error) {\n",
              "        console.error('Error during call to suggestCharts:', error);\n",
              "      }\n",
              "      quickchartButtonEl.classList.remove('colab-df-spinner');\n",
              "      quickchartButtonEl.classList.add('colab-df-quickchart-complete');\n",
              "    }\n",
              "    (() => {\n",
              "      let quickchartButtonEl =\n",
              "        document.querySelector('#df-ca554c93-0834-45df-ac5a-fe1dbc87ad39 button');\n",
              "      quickchartButtonEl.style.display =\n",
              "        google.colab.kernel.accessAllowed ? 'block' : 'none';\n",
              "    })();\n",
              "  </script>\n",
              "</div>\n",
              "\n",
              "  <div id=\"id_1af45bb0-4f6d-4f69-9cdb-4cb755becc77\">\n",
              "    <style>\n",
              "      .colab-df-generate {\n",
              "        background-color: #E8F0FE;\n",
              "        border: none;\n",
              "        border-radius: 50%;\n",
              "        cursor: pointer;\n",
              "        display: none;\n",
              "        fill: #1967D2;\n",
              "        height: 32px;\n",
              "        padding: 0 0 0 0;\n",
              "        width: 32px;\n",
              "      }\n",
              "\n",
              "      .colab-df-generate:hover {\n",
              "        background-color: #E2EBFA;\n",
              "        box-shadow: 0px 1px 2px rgba(60, 64, 67, 0.3), 0px 1px 3px 1px rgba(60, 64, 67, 0.15);\n",
              "        fill: #174EA6;\n",
              "      }\n",
              "\n",
              "      [theme=dark] .colab-df-generate {\n",
              "        background-color: #3B4455;\n",
              "        fill: #D2E3FC;\n",
              "      }\n",
              "\n",
              "      [theme=dark] .colab-df-generate:hover {\n",
              "        background-color: #434B5C;\n",
              "        box-shadow: 0px 1px 3px 1px rgba(0, 0, 0, 0.15);\n",
              "        filter: drop-shadow(0px 1px 2px rgba(0, 0, 0, 0.3));\n",
              "        fill: #FFFFFF;\n",
              "      }\n",
              "    </style>\n",
              "    <button class=\"colab-df-generate\" onclick=\"generateWithVariable('train_csv')\"\n",
              "            title=\"Generate code using this dataframe.\"\n",
              "            style=\"display:none;\">\n",
              "\n",
              "  <svg xmlns=\"http://www.w3.org/2000/svg\" height=\"24px\"viewBox=\"0 0 24 24\"\n",
              "       width=\"24px\">\n",
              "    <path d=\"M7,19H8.4L18.45,9,17,7.55,7,17.6ZM5,21V16.75L18.45,3.32a2,2,0,0,1,2.83,0l1.4,1.43a1.91,1.91,0,0,1,.58,1.4,1.91,1.91,0,0,1-.58,1.4L9.25,21ZM18.45,9,17,7.55Zm-12,3A5.31,5.31,0,0,0,4.9,8.1,5.31,5.31,0,0,0,1,6.5,5.31,5.31,0,0,0,4.9,4.9,5.31,5.31,0,0,0,6.5,1,5.31,5.31,0,0,0,8.1,4.9,5.31,5.31,0,0,0,12,6.5,5.46,5.46,0,0,0,6.5,12Z\"/>\n",
              "  </svg>\n",
              "    </button>\n",
              "    <script>\n",
              "      (() => {\n",
              "      const buttonEl =\n",
              "        document.querySelector('#id_1af45bb0-4f6d-4f69-9cdb-4cb755becc77 button.colab-df-generate');\n",
              "      buttonEl.style.display =\n",
              "        google.colab.kernel.accessAllowed ? 'block' : 'none';\n",
              "\n",
              "      buttonEl.onclick = () => {\n",
              "        google.colab.notebook.generateWithVariable('train_csv');\n",
              "      }\n",
              "      })();\n",
              "    </script>\n",
              "  </div>\n",
              "\n",
              "    </div>\n",
              "  </div>\n"
            ],
            "application/vnd.google.colaboratory.intrinsic+json": {
              "type": "dataframe",
              "variable_name": "train_csv",
              "summary": "{\n  \"name\": \"train_csv\",\n  \"rows\": 170,\n  \"fields\": [\n    {\n      \"column\": \"file_properties\",\n      \"properties\": {\n        \"dtype\": \"string\",\n        \"num_unique_values\": 166,\n        \"samples\": [\n          \"4txOUgXllWE_ 300.000_ 310.000.wav\",\n          \"9h3a7fN0f-c_ 240.000_ 250.000.wav\",\n          \"2TBWSnIjJMk_ 180.000_ 190.000.wav\"\n        ],\n        \"semantic_type\": \"\",\n        \"description\": \"\"\n      }\n    },\n    {\n      \"column\": \"class\",\n      \"properties\": {\n        \"dtype\": \"category\",\n        \"num_unique_values\": 2,\n        \"samples\": [\n          \"respdisease\",\n          \"not_respdisease\"\n        ],\n        \"semantic_type\": \"\",\n        \"description\": \"\"\n      }\n    }\n  ]\n}"
            }
          },
          "metadata": {},
          "execution_count": 97
        }
      ]
    },
    {
      "cell_type": "code",
      "source": [
        "train_csv['class'].unique()"
      ],
      "metadata": {
        "_uuid": "abb410e1-6327-4565-ac6b-5162d3f34732",
        "_cell_guid": "8fc5692a-33bc-480c-b41b-7a0c6b5b83ce",
        "jupyter": {
          "outputs_hidden": false
        },
        "execution": {
          "iopub.status.busy": "2021-05-25T18:18:14.440285Z",
          "iopub.execute_input": "2021-05-25T18:18:14.440661Z",
          "iopub.status.idle": "2021-05-25T18:18:14.447458Z",
          "shell.execute_reply.started": "2021-05-25T18:18:14.440627Z",
          "shell.execute_reply": "2021-05-25T18:18:14.446438Z"
        },
        "trusted": true,
        "id": "w41pLQVo8ht-",
        "outputId": "ecfefdc2-1b86-4c31-fefb-f0e0a42f4784",
        "colab": {
          "base_uri": "https://localhost:8080/"
        }
      },
      "execution_count": null,
      "outputs": [
        {
          "output_type": "execute_result",
          "data": {
            "text/plain": [
              "array(['not_respdisease', 'respdisease'], dtype=object)"
            ]
          },
          "metadata": {},
          "execution_count": 98
        }
      ]
    },
    {
      "cell_type": "code",
      "source": [
        "cmap = plt.get_cmap('inferno')\n",
        "tot_rows = train_csv.shape[0]\n",
        "for i in range(tot_rows):\n",
        "    source = train_csv['file_properties'][i]\n",
        "    filename = '/root/.cache/Data/datasets/Sineha/coughclassifier-trial/Setup/25/COUGHVID/'+source\n",
        "    y,sr = librosa.load(filename, mono=True, duration=5)\n",
        "    plt.specgram(y, NFFT=2048, Fs=2, Fc=0, noverlap=128, cmap=cmap, sides='default', mode='default', scale='dB');\n",
        "    plt.axis('off');\n",
        "    plt.savefig(f'./{source[:-3].replace(\".\", \"\")}.png')\n",
        "    plt.clf()"
      ],
      "metadata": {
        "_uuid": "80a9ffa4-fbd2-4000-aa60-79d53b108d3e",
        "_cell_guid": "6fe30f5c-07b3-46a0-aa1a-b609e7df7ecc",
        "jupyter": {
          "outputs_hidden": false
        },
        "execution": {
          "iopub.status.busy": "2021-05-25T18:18:22.304396Z",
          "iopub.execute_input": "2021-05-25T18:18:22.304758Z",
          "iopub.status.idle": "2021-05-25T18:18:49.636412Z",
          "shell.execute_reply.started": "2021-05-25T18:18:22.304723Z",
          "shell.execute_reply": "2021-05-25T18:18:49.635386Z"
        },
        "trusted": true,
        "id": "0gQl2xEr8ht_",
        "outputId": "8150d143-899c-48c9-ca95-b7cdb1071ff3",
        "colab": {
          "base_uri": "https://localhost:8080/",
          "height": 35
        }
      },
      "execution_count": null,
      "outputs": [
        {
          "output_type": "display_data",
          "data": {
            "text/plain": [
              "<Figure size 640x480 with 0 Axes>"
            ]
          },
          "metadata": {}
        }
      ]
    },
    {
      "cell_type": "markdown",
      "source": [
        "All the audio files get converted into their respective spectrograms .We can know easily extract features from them."
      ],
      "metadata": {
        "_uuid": "ac3e23ee-87f3-43da-9351-1f178e7ed88f",
        "_cell_guid": "eae88638-acb4-47fb-8d6d-b4942e1e662e",
        "id": "SszVgjYnFNX9",
        "trusted": true
      }
    },
    {
      "cell_type": "markdown",
      "source": [
        "## Extracting features from Spectrogram\n",
        "\n",
        "\n",
        "We will extract\n",
        "\n",
        "* Mel-frequency cepstral coefficients (MFCC)(20 in number)\n",
        "* Spectral Centroid,\n",
        "* Zero Crossing Rate\n",
        "* Chroma Frequencies\n",
        "* Spectral Roll-off."
      ],
      "metadata": {
        "_uuid": "dae4e579-d3d0-4863-a153-d37d75d4382f",
        "_cell_guid": "3aecd890-c67a-49ed-9bd7-53589b64baae",
        "id": "piwUwgP5Eef9",
        "trusted": true
      }
    },
    {
      "cell_type": "code",
      "source": [
        "header = 'filename chroma_stft rmse spectral_centroid spectral_bandwidth rolloff zero_crossing_rate'\n",
        "for i in range(1, 21):\n",
        "    header += f' mfcc{i}'\n",
        "header += ' label'\n",
        "header = header.split()"
      ],
      "metadata": {
        "_uuid": "087c6845-4712-4746-8aed-14446794d80b",
        "_cell_guid": "cc331db2-50d1-4e5c-aa76-dd8b4c881671",
        "id": "__g8tX8pDeIL",
        "jupyter": {
          "outputs_hidden": false
        },
        "execution": {
          "iopub.status.busy": "2021-05-25T18:21:40.203297Z",
          "iopub.execute_input": "2021-05-25T18:21:40.203654Z",
          "iopub.status.idle": "2021-05-25T18:21:40.210096Z",
          "shell.execute_reply.started": "2021-05-25T18:21:40.203623Z",
          "shell.execute_reply": "2021-05-25T18:21:40.209254Z"
        },
        "trusted": true
      },
      "execution_count": null,
      "outputs": []
    },
    {
      "cell_type": "markdown",
      "source": [
        "# Analysing the Data in Pandas"
      ],
      "metadata": {
        "_uuid": "713c1ff4-b8ee-4d18-9bb6-b0df8ed64ee5",
        "_cell_guid": "b0d4e954-f395-452d-8029-82b855319a34",
        "id": "fgeCZSKQEp1A",
        "trusted": true
      }
    },
    {
      "cell_type": "code",
      "source": [
        "data = pd.read_csv('/root/.cache/Data/datasets/Sineha/coughclassifier-trial/Setup/25/data_new_1.csv')\n",
        "data"
      ],
      "metadata": {
        "_uuid": "2bb585ab-946c-4fe1-950d-ec51db8f349e",
        "_cell_guid": "ea1e0f04-88ee-465a-b780-a0d20445f745",
        "id": "Kr5_EdpD9dyh",
        "outputId": "2c239f45-1922-4397-f50a-c1f786038da2",
        "jupyter": {
          "outputs_hidden": false
        },
        "execution": {
          "iopub.status.busy": "2021-05-25T18:27:46.060038Z",
          "iopub.execute_input": "2021-05-25T18:27:46.060446Z",
          "iopub.status.idle": "2021-05-25T18:27:46.119177Z",
          "shell.execute_reply.started": "2021-05-25T18:27:46.060418Z",
          "shell.execute_reply": "2021-05-25T18:27:46.118289Z"
        },
        "trusted": true,
        "colab": {
          "base_uri": "https://localhost:8080/",
          "height": 443
        }
      },
      "execution_count": null,
      "outputs": [
        {
          "output_type": "execute_result",
          "data": {
            "text/plain": [
              "         filename  chroma_stft      rmse  spectral_centroid  \\\n",
              "0    0v8MGxNetjg_     0.519951  0.045853        1612.895795   \n",
              "1    1j1duoxdxBg_     0.535472  0.001771        2892.087076   \n",
              "2    1MSYO4wgiag_     0.496666  0.033657        3429.061935   \n",
              "3    1PajbAKd8Kg_     0.407549  0.013452        2710.811637   \n",
              "4            cov1     0.412697  0.059004        1555.648634   \n",
              "..            ...          ...       ...                ...   \n",
              "165        #NAME?     0.492974  0.005093        1600.647469   \n",
              "166        #NAME?     0.400283  0.052132        2664.129566   \n",
              "167        #NAME?     0.704281  0.058739        3090.031219   \n",
              "168        #NAME?     0.424896  0.044159        3173.872023   \n",
              "169        #NAME?     0.434573  0.104041        3006.457898   \n",
              "\n",
              "     spectral_bandwidth      rolloff  zero_crossing_rate       mfcc1  \\\n",
              "0           1411.838677  2907.580566            0.107019 -376.876007   \n",
              "1           2467.408141  5072.664388            0.148584 -519.158447   \n",
              "2           2788.634413  6886.288452            0.225315 -282.297913   \n",
              "3           2664.287550  5778.474935            0.142076 -346.857300   \n",
              "4           1418.599932  2870.737092            0.133998 -340.588013   \n",
              "..                  ...          ...                 ...         ...   \n",
              "165         2300.999728  3660.644531            0.047815 -543.776916   \n",
              "166         2563.440387  5518.182373            0.121514 -290.840607   \n",
              "167         2740.856272  6530.841064            0.179077  -75.595451   \n",
              "168         2482.951387  5768.306478            0.221743 -264.064514   \n",
              "169         2270.008544  5383.550008            0.225385 -113.609337   \n",
              "\n",
              "          mfcc2      mfcc3  ...    mfcc12    mfcc13    mfcc14    mfcc15  \\\n",
              "0    111.017372 -31.904015  ... -7.439712 -1.034580 -0.203084 -3.513495   \n",
              "1     60.781284 -13.722884  ... -0.909972  7.216461 -1.719630  3.903021   \n",
              "2     48.581680 -15.522367  ... -6.066336 -4.167640  1.017302 -0.523806   \n",
              "3     75.765617  -7.648193  ...  5.053118 -0.291308  0.987186 -2.447526   \n",
              "4    104.156700 -32.228443  ... -8.247169  0.940006 -5.701087 -6.326630   \n",
              "..          ...        ...  ...       ...       ...       ...       ...   \n",
              "165  119.100296  23.902969  ... -1.250754 -2.634280  1.647435  0.647164   \n",
              "166   85.514412 -10.986873  ... -4.629812 -7.424622 -4.511141 -7.482200   \n",
              "167   68.849228 -11.665833  ...  0.677697 -7.535110  0.602187 -6.629556   \n",
              "168   58.729767  -7.446329  ... -0.625627  0.677355 -3.651989 -6.051375   \n",
              "169   61.575649 -50.143192  ...  1.918063 -8.441331  2.808456 -6.152548   \n",
              "\n",
              "       mfcc16     mfcc17     mfcc18    mfcc19    mfcc20      label  \n",
              "0   -1.745704  -3.011878  -2.878482 -2.106427 -4.026825  not_covid  \n",
              "1    3.653039   3.043882   2.439958  2.781968  2.195162  not_covid  \n",
              "2    0.538693  -8.855953  -2.927977 -1.118562 -5.906227  not_covid  \n",
              "3    3.692367   2.312328  -2.059656 -4.772599 -0.503851  not_covid  \n",
              "4   -1.080040  -1.812609  -2.518986 -3.684266 -3.564146      covid  \n",
              "..        ...        ...        ...       ...       ...        ...  \n",
              "165  1.602689  -2.469729   0.704325 -5.352920 -1.281080  not_covid  \n",
              "166 -4.865530  -6.353733  -5.024187 -8.422812 -0.831208  not_covid  \n",
              "167  0.659050  -4.125256   0.734950 -4.655417 -0.645009  not_covid  \n",
              "168  1.211774 -14.923816 -11.180058 -8.861262 -5.078876  not_covid  \n",
              "169 -4.181546  -7.060247  -0.964895  0.560492 -1.245852  not_covid  \n",
              "\n",
              "[170 rows x 28 columns]"
            ],
            "text/html": [
              "\n",
              "  <div id=\"df-9078bd66-d5cf-4e4b-b46e-4e9760e66630\" class=\"colab-df-container\">\n",
              "    <div>\n",
              "<style scoped>\n",
              "    .dataframe tbody tr th:only-of-type {\n",
              "        vertical-align: middle;\n",
              "    }\n",
              "\n",
              "    .dataframe tbody tr th {\n",
              "        vertical-align: top;\n",
              "    }\n",
              "\n",
              "    .dataframe thead th {\n",
              "        text-align: right;\n",
              "    }\n",
              "</style>\n",
              "<table border=\"1\" class=\"dataframe\">\n",
              "  <thead>\n",
              "    <tr style=\"text-align: right;\">\n",
              "      <th></th>\n",
              "      <th>filename</th>\n",
              "      <th>chroma_stft</th>\n",
              "      <th>rmse</th>\n",
              "      <th>spectral_centroid</th>\n",
              "      <th>spectral_bandwidth</th>\n",
              "      <th>rolloff</th>\n",
              "      <th>zero_crossing_rate</th>\n",
              "      <th>mfcc1</th>\n",
              "      <th>mfcc2</th>\n",
              "      <th>mfcc3</th>\n",
              "      <th>...</th>\n",
              "      <th>mfcc12</th>\n",
              "      <th>mfcc13</th>\n",
              "      <th>mfcc14</th>\n",
              "      <th>mfcc15</th>\n",
              "      <th>mfcc16</th>\n",
              "      <th>mfcc17</th>\n",
              "      <th>mfcc18</th>\n",
              "      <th>mfcc19</th>\n",
              "      <th>mfcc20</th>\n",
              "      <th>label</th>\n",
              "    </tr>\n",
              "  </thead>\n",
              "  <tbody>\n",
              "    <tr>\n",
              "      <th>0</th>\n",
              "      <td>0v8MGxNetjg_</td>\n",
              "      <td>0.519951</td>\n",
              "      <td>0.045853</td>\n",
              "      <td>1612.895795</td>\n",
              "      <td>1411.838677</td>\n",
              "      <td>2907.580566</td>\n",
              "      <td>0.107019</td>\n",
              "      <td>-376.876007</td>\n",
              "      <td>111.017372</td>\n",
              "      <td>-31.904015</td>\n",
              "      <td>...</td>\n",
              "      <td>-7.439712</td>\n",
              "      <td>-1.034580</td>\n",
              "      <td>-0.203084</td>\n",
              "      <td>-3.513495</td>\n",
              "      <td>-1.745704</td>\n",
              "      <td>-3.011878</td>\n",
              "      <td>-2.878482</td>\n",
              "      <td>-2.106427</td>\n",
              "      <td>-4.026825</td>\n",
              "      <td>not_covid</td>\n",
              "    </tr>\n",
              "    <tr>\n",
              "      <th>1</th>\n",
              "      <td>1j1duoxdxBg_</td>\n",
              "      <td>0.535472</td>\n",
              "      <td>0.001771</td>\n",
              "      <td>2892.087076</td>\n",
              "      <td>2467.408141</td>\n",
              "      <td>5072.664388</td>\n",
              "      <td>0.148584</td>\n",
              "      <td>-519.158447</td>\n",
              "      <td>60.781284</td>\n",
              "      <td>-13.722884</td>\n",
              "      <td>...</td>\n",
              "      <td>-0.909972</td>\n",
              "      <td>7.216461</td>\n",
              "      <td>-1.719630</td>\n",
              "      <td>3.903021</td>\n",
              "      <td>3.653039</td>\n",
              "      <td>3.043882</td>\n",
              "      <td>2.439958</td>\n",
              "      <td>2.781968</td>\n",
              "      <td>2.195162</td>\n",
              "      <td>not_covid</td>\n",
              "    </tr>\n",
              "    <tr>\n",
              "      <th>2</th>\n",
              "      <td>1MSYO4wgiag_</td>\n",
              "      <td>0.496666</td>\n",
              "      <td>0.033657</td>\n",
              "      <td>3429.061935</td>\n",
              "      <td>2788.634413</td>\n",
              "      <td>6886.288452</td>\n",
              "      <td>0.225315</td>\n",
              "      <td>-282.297913</td>\n",
              "      <td>48.581680</td>\n",
              "      <td>-15.522367</td>\n",
              "      <td>...</td>\n",
              "      <td>-6.066336</td>\n",
              "      <td>-4.167640</td>\n",
              "      <td>1.017302</td>\n",
              "      <td>-0.523806</td>\n",
              "      <td>0.538693</td>\n",
              "      <td>-8.855953</td>\n",
              "      <td>-2.927977</td>\n",
              "      <td>-1.118562</td>\n",
              "      <td>-5.906227</td>\n",
              "      <td>not_covid</td>\n",
              "    </tr>\n",
              "    <tr>\n",
              "      <th>3</th>\n",
              "      <td>1PajbAKd8Kg_</td>\n",
              "      <td>0.407549</td>\n",
              "      <td>0.013452</td>\n",
              "      <td>2710.811637</td>\n",
              "      <td>2664.287550</td>\n",
              "      <td>5778.474935</td>\n",
              "      <td>0.142076</td>\n",
              "      <td>-346.857300</td>\n",
              "      <td>75.765617</td>\n",
              "      <td>-7.648193</td>\n",
              "      <td>...</td>\n",
              "      <td>5.053118</td>\n",
              "      <td>-0.291308</td>\n",
              "      <td>0.987186</td>\n",
              "      <td>-2.447526</td>\n",
              "      <td>3.692367</td>\n",
              "      <td>2.312328</td>\n",
              "      <td>-2.059656</td>\n",
              "      <td>-4.772599</td>\n",
              "      <td>-0.503851</td>\n",
              "      <td>not_covid</td>\n",
              "    </tr>\n",
              "    <tr>\n",
              "      <th>4</th>\n",
              "      <td>cov1</td>\n",
              "      <td>0.412697</td>\n",
              "      <td>0.059004</td>\n",
              "      <td>1555.648634</td>\n",
              "      <td>1418.599932</td>\n",
              "      <td>2870.737092</td>\n",
              "      <td>0.133998</td>\n",
              "      <td>-340.588013</td>\n",
              "      <td>104.156700</td>\n",
              "      <td>-32.228443</td>\n",
              "      <td>...</td>\n",
              "      <td>-8.247169</td>\n",
              "      <td>0.940006</td>\n",
              "      <td>-5.701087</td>\n",
              "      <td>-6.326630</td>\n",
              "      <td>-1.080040</td>\n",
              "      <td>-1.812609</td>\n",
              "      <td>-2.518986</td>\n",
              "      <td>-3.684266</td>\n",
              "      <td>-3.564146</td>\n",
              "      <td>covid</td>\n",
              "    </tr>\n",
              "    <tr>\n",
              "      <th>...</th>\n",
              "      <td>...</td>\n",
              "      <td>...</td>\n",
              "      <td>...</td>\n",
              "      <td>...</td>\n",
              "      <td>...</td>\n",
              "      <td>...</td>\n",
              "      <td>...</td>\n",
              "      <td>...</td>\n",
              "      <td>...</td>\n",
              "      <td>...</td>\n",
              "      <td>...</td>\n",
              "      <td>...</td>\n",
              "      <td>...</td>\n",
              "      <td>...</td>\n",
              "      <td>...</td>\n",
              "      <td>...</td>\n",
              "      <td>...</td>\n",
              "      <td>...</td>\n",
              "      <td>...</td>\n",
              "      <td>...</td>\n",
              "      <td>...</td>\n",
              "    </tr>\n",
              "    <tr>\n",
              "      <th>165</th>\n",
              "      <td>#NAME?</td>\n",
              "      <td>0.492974</td>\n",
              "      <td>0.005093</td>\n",
              "      <td>1600.647469</td>\n",
              "      <td>2300.999728</td>\n",
              "      <td>3660.644531</td>\n",
              "      <td>0.047815</td>\n",
              "      <td>-543.776916</td>\n",
              "      <td>119.100296</td>\n",
              "      <td>23.902969</td>\n",
              "      <td>...</td>\n",
              "      <td>-1.250754</td>\n",
              "      <td>-2.634280</td>\n",
              "      <td>1.647435</td>\n",
              "      <td>0.647164</td>\n",
              "      <td>1.602689</td>\n",
              "      <td>-2.469729</td>\n",
              "      <td>0.704325</td>\n",
              "      <td>-5.352920</td>\n",
              "      <td>-1.281080</td>\n",
              "      <td>not_covid</td>\n",
              "    </tr>\n",
              "    <tr>\n",
              "      <th>166</th>\n",
              "      <td>#NAME?</td>\n",
              "      <td>0.400283</td>\n",
              "      <td>0.052132</td>\n",
              "      <td>2664.129566</td>\n",
              "      <td>2563.440387</td>\n",
              "      <td>5518.182373</td>\n",
              "      <td>0.121514</td>\n",
              "      <td>-290.840607</td>\n",
              "      <td>85.514412</td>\n",
              "      <td>-10.986873</td>\n",
              "      <td>...</td>\n",
              "      <td>-4.629812</td>\n",
              "      <td>-7.424622</td>\n",
              "      <td>-4.511141</td>\n",
              "      <td>-7.482200</td>\n",
              "      <td>-4.865530</td>\n",
              "      <td>-6.353733</td>\n",
              "      <td>-5.024187</td>\n",
              "      <td>-8.422812</td>\n",
              "      <td>-0.831208</td>\n",
              "      <td>not_covid</td>\n",
              "    </tr>\n",
              "    <tr>\n",
              "      <th>167</th>\n",
              "      <td>#NAME?</td>\n",
              "      <td>0.704281</td>\n",
              "      <td>0.058739</td>\n",
              "      <td>3090.031219</td>\n",
              "      <td>2740.856272</td>\n",
              "      <td>6530.841064</td>\n",
              "      <td>0.179077</td>\n",
              "      <td>-75.595451</td>\n",
              "      <td>68.849228</td>\n",
              "      <td>-11.665833</td>\n",
              "      <td>...</td>\n",
              "      <td>0.677697</td>\n",
              "      <td>-7.535110</td>\n",
              "      <td>0.602187</td>\n",
              "      <td>-6.629556</td>\n",
              "      <td>0.659050</td>\n",
              "      <td>-4.125256</td>\n",
              "      <td>0.734950</td>\n",
              "      <td>-4.655417</td>\n",
              "      <td>-0.645009</td>\n",
              "      <td>not_covid</td>\n",
              "    </tr>\n",
              "    <tr>\n",
              "      <th>168</th>\n",
              "      <td>#NAME?</td>\n",
              "      <td>0.424896</td>\n",
              "      <td>0.044159</td>\n",
              "      <td>3173.872023</td>\n",
              "      <td>2482.951387</td>\n",
              "      <td>5768.306478</td>\n",
              "      <td>0.221743</td>\n",
              "      <td>-264.064514</td>\n",
              "      <td>58.729767</td>\n",
              "      <td>-7.446329</td>\n",
              "      <td>...</td>\n",
              "      <td>-0.625627</td>\n",
              "      <td>0.677355</td>\n",
              "      <td>-3.651989</td>\n",
              "      <td>-6.051375</td>\n",
              "      <td>1.211774</td>\n",
              "      <td>-14.923816</td>\n",
              "      <td>-11.180058</td>\n",
              "      <td>-8.861262</td>\n",
              "      <td>-5.078876</td>\n",
              "      <td>not_covid</td>\n",
              "    </tr>\n",
              "    <tr>\n",
              "      <th>169</th>\n",
              "      <td>#NAME?</td>\n",
              "      <td>0.434573</td>\n",
              "      <td>0.104041</td>\n",
              "      <td>3006.457898</td>\n",
              "      <td>2270.008544</td>\n",
              "      <td>5383.550008</td>\n",
              "      <td>0.225385</td>\n",
              "      <td>-113.609337</td>\n",
              "      <td>61.575649</td>\n",
              "      <td>-50.143192</td>\n",
              "      <td>...</td>\n",
              "      <td>1.918063</td>\n",
              "      <td>-8.441331</td>\n",
              "      <td>2.808456</td>\n",
              "      <td>-6.152548</td>\n",
              "      <td>-4.181546</td>\n",
              "      <td>-7.060247</td>\n",
              "      <td>-0.964895</td>\n",
              "      <td>0.560492</td>\n",
              "      <td>-1.245852</td>\n",
              "      <td>not_covid</td>\n",
              "    </tr>\n",
              "  </tbody>\n",
              "</table>\n",
              "<p>170 rows × 28 columns</p>\n",
              "</div>\n",
              "    <div class=\"colab-df-buttons\">\n",
              "\n",
              "  <div class=\"colab-df-container\">\n",
              "    <button class=\"colab-df-convert\" onclick=\"convertToInteractive('df-9078bd66-d5cf-4e4b-b46e-4e9760e66630')\"\n",
              "            title=\"Convert this dataframe to an interactive table.\"\n",
              "            style=\"display:none;\">\n",
              "\n",
              "  <svg xmlns=\"http://www.w3.org/2000/svg\" height=\"24px\" viewBox=\"0 -960 960 960\">\n",
              "    <path d=\"M120-120v-720h720v720H120Zm60-500h600v-160H180v160Zm220 220h160v-160H400v160Zm0 220h160v-160H400v160ZM180-400h160v-160H180v160Zm440 0h160v-160H620v160ZM180-180h160v-160H180v160Zm440 0h160v-160H620v160Z\"/>\n",
              "  </svg>\n",
              "    </button>\n",
              "\n",
              "  <style>\n",
              "    .colab-df-container {\n",
              "      display:flex;\n",
              "      gap: 12px;\n",
              "    }\n",
              "\n",
              "    .colab-df-convert {\n",
              "      background-color: #E8F0FE;\n",
              "      border: none;\n",
              "      border-radius: 50%;\n",
              "      cursor: pointer;\n",
              "      display: none;\n",
              "      fill: #1967D2;\n",
              "      height: 32px;\n",
              "      padding: 0 0 0 0;\n",
              "      width: 32px;\n",
              "    }\n",
              "\n",
              "    .colab-df-convert:hover {\n",
              "      background-color: #E2EBFA;\n",
              "      box-shadow: 0px 1px 2px rgba(60, 64, 67, 0.3), 0px 1px 3px 1px rgba(60, 64, 67, 0.15);\n",
              "      fill: #174EA6;\n",
              "    }\n",
              "\n",
              "    .colab-df-buttons div {\n",
              "      margin-bottom: 4px;\n",
              "    }\n",
              "\n",
              "    [theme=dark] .colab-df-convert {\n",
              "      background-color: #3B4455;\n",
              "      fill: #D2E3FC;\n",
              "    }\n",
              "\n",
              "    [theme=dark] .colab-df-convert:hover {\n",
              "      background-color: #434B5C;\n",
              "      box-shadow: 0px 1px 3px 1px rgba(0, 0, 0, 0.15);\n",
              "      filter: drop-shadow(0px 1px 2px rgba(0, 0, 0, 0.3));\n",
              "      fill: #FFFFFF;\n",
              "    }\n",
              "  </style>\n",
              "\n",
              "    <script>\n",
              "      const buttonEl =\n",
              "        document.querySelector('#df-9078bd66-d5cf-4e4b-b46e-4e9760e66630 button.colab-df-convert');\n",
              "      buttonEl.style.display =\n",
              "        google.colab.kernel.accessAllowed ? 'block' : 'none';\n",
              "\n",
              "      async function convertToInteractive(key) {\n",
              "        const element = document.querySelector('#df-9078bd66-d5cf-4e4b-b46e-4e9760e66630');\n",
              "        const dataTable =\n",
              "          await google.colab.kernel.invokeFunction('convertToInteractive',\n",
              "                                                    [key], {});\n",
              "        if (!dataTable) return;\n",
              "\n",
              "        const docLinkHtml = 'Like what you see? Visit the ' +\n",
              "          '<a target=\"_blank\" href=https://colab.research.google.com/notebooks/data_table.ipynb>data table notebook</a>'\n",
              "          + ' to learn more about interactive tables.';\n",
              "        element.innerHTML = '';\n",
              "        dataTable['output_type'] = 'display_data';\n",
              "        await google.colab.output.renderOutput(dataTable, element);\n",
              "        const docLink = document.createElement('div');\n",
              "        docLink.innerHTML = docLinkHtml;\n",
              "        element.appendChild(docLink);\n",
              "      }\n",
              "    </script>\n",
              "  </div>\n",
              "\n",
              "\n",
              "<div id=\"df-2cf431fc-79fa-4488-94f1-b13aea2fbb52\">\n",
              "  <button class=\"colab-df-quickchart\" onclick=\"quickchart('df-2cf431fc-79fa-4488-94f1-b13aea2fbb52')\"\n",
              "            title=\"Suggest charts\"\n",
              "            style=\"display:none;\">\n",
              "\n",
              "<svg xmlns=\"http://www.w3.org/2000/svg\" height=\"24px\"viewBox=\"0 0 24 24\"\n",
              "     width=\"24px\">\n",
              "    <g>\n",
              "        <path d=\"M19 3H5c-1.1 0-2 .9-2 2v14c0 1.1.9 2 2 2h14c1.1 0 2-.9 2-2V5c0-1.1-.9-2-2-2zM9 17H7v-7h2v7zm4 0h-2V7h2v10zm4 0h-2v-4h2v4z\"/>\n",
              "    </g>\n",
              "</svg>\n",
              "  </button>\n",
              "\n",
              "<style>\n",
              "  .colab-df-quickchart {\n",
              "      --bg-color: #E8F0FE;\n",
              "      --fill-color: #1967D2;\n",
              "      --hover-bg-color: #E2EBFA;\n",
              "      --hover-fill-color: #174EA6;\n",
              "      --disabled-fill-color: #AAA;\n",
              "      --disabled-bg-color: #DDD;\n",
              "  }\n",
              "\n",
              "  [theme=dark] .colab-df-quickchart {\n",
              "      --bg-color: #3B4455;\n",
              "      --fill-color: #D2E3FC;\n",
              "      --hover-bg-color: #434B5C;\n",
              "      --hover-fill-color: #FFFFFF;\n",
              "      --disabled-bg-color: #3B4455;\n",
              "      --disabled-fill-color: #666;\n",
              "  }\n",
              "\n",
              "  .colab-df-quickchart {\n",
              "    background-color: var(--bg-color);\n",
              "    border: none;\n",
              "    border-radius: 50%;\n",
              "    cursor: pointer;\n",
              "    display: none;\n",
              "    fill: var(--fill-color);\n",
              "    height: 32px;\n",
              "    padding: 0;\n",
              "    width: 32px;\n",
              "  }\n",
              "\n",
              "  .colab-df-quickchart:hover {\n",
              "    background-color: var(--hover-bg-color);\n",
              "    box-shadow: 0 1px 2px rgba(60, 64, 67, 0.3), 0 1px 3px 1px rgba(60, 64, 67, 0.15);\n",
              "    fill: var(--button-hover-fill-color);\n",
              "  }\n",
              "\n",
              "  .colab-df-quickchart-complete:disabled,\n",
              "  .colab-df-quickchart-complete:disabled:hover {\n",
              "    background-color: var(--disabled-bg-color);\n",
              "    fill: var(--disabled-fill-color);\n",
              "    box-shadow: none;\n",
              "  }\n",
              "\n",
              "  .colab-df-spinner {\n",
              "    border: 2px solid var(--fill-color);\n",
              "    border-color: transparent;\n",
              "    border-bottom-color: var(--fill-color);\n",
              "    animation:\n",
              "      spin 1s steps(1) infinite;\n",
              "  }\n",
              "\n",
              "  @keyframes spin {\n",
              "    0% {\n",
              "      border-color: transparent;\n",
              "      border-bottom-color: var(--fill-color);\n",
              "      border-left-color: var(--fill-color);\n",
              "    }\n",
              "    20% {\n",
              "      border-color: transparent;\n",
              "      border-left-color: var(--fill-color);\n",
              "      border-top-color: var(--fill-color);\n",
              "    }\n",
              "    30% {\n",
              "      border-color: transparent;\n",
              "      border-left-color: var(--fill-color);\n",
              "      border-top-color: var(--fill-color);\n",
              "      border-right-color: var(--fill-color);\n",
              "    }\n",
              "    40% {\n",
              "      border-color: transparent;\n",
              "      border-right-color: var(--fill-color);\n",
              "      border-top-color: var(--fill-color);\n",
              "    }\n",
              "    60% {\n",
              "      border-color: transparent;\n",
              "      border-right-color: var(--fill-color);\n",
              "    }\n",
              "    80% {\n",
              "      border-color: transparent;\n",
              "      border-right-color: var(--fill-color);\n",
              "      border-bottom-color: var(--fill-color);\n",
              "    }\n",
              "    90% {\n",
              "      border-color: transparent;\n",
              "      border-bottom-color: var(--fill-color);\n",
              "    }\n",
              "  }\n",
              "</style>\n",
              "\n",
              "  <script>\n",
              "    async function quickchart(key) {\n",
              "      const quickchartButtonEl =\n",
              "        document.querySelector('#' + key + ' button');\n",
              "      quickchartButtonEl.disabled = true;  // To prevent multiple clicks.\n",
              "      quickchartButtonEl.classList.add('colab-df-spinner');\n",
              "      try {\n",
              "        const charts = await google.colab.kernel.invokeFunction(\n",
              "            'suggestCharts', [key], {});\n",
              "      } catch (error) {\n",
              "        console.error('Error during call to suggestCharts:', error);\n",
              "      }\n",
              "      quickchartButtonEl.classList.remove('colab-df-spinner');\n",
              "      quickchartButtonEl.classList.add('colab-df-quickchart-complete');\n",
              "    }\n",
              "    (() => {\n",
              "      let quickchartButtonEl =\n",
              "        document.querySelector('#df-2cf431fc-79fa-4488-94f1-b13aea2fbb52 button');\n",
              "      quickchartButtonEl.style.display =\n",
              "        google.colab.kernel.accessAllowed ? 'block' : 'none';\n",
              "    })();\n",
              "  </script>\n",
              "</div>\n",
              "\n",
              "  <div id=\"id_120f4ba3-682d-4ec3-ad55-7d2aa8454f8c\">\n",
              "    <style>\n",
              "      .colab-df-generate {\n",
              "        background-color: #E8F0FE;\n",
              "        border: none;\n",
              "        border-radius: 50%;\n",
              "        cursor: pointer;\n",
              "        display: none;\n",
              "        fill: #1967D2;\n",
              "        height: 32px;\n",
              "        padding: 0 0 0 0;\n",
              "        width: 32px;\n",
              "      }\n",
              "\n",
              "      .colab-df-generate:hover {\n",
              "        background-color: #E2EBFA;\n",
              "        box-shadow: 0px 1px 2px rgba(60, 64, 67, 0.3), 0px 1px 3px 1px rgba(60, 64, 67, 0.15);\n",
              "        fill: #174EA6;\n",
              "      }\n",
              "\n",
              "      [theme=dark] .colab-df-generate {\n",
              "        background-color: #3B4455;\n",
              "        fill: #D2E3FC;\n",
              "      }\n",
              "\n",
              "      [theme=dark] .colab-df-generate:hover {\n",
              "        background-color: #434B5C;\n",
              "        box-shadow: 0px 1px 3px 1px rgba(0, 0, 0, 0.15);\n",
              "        filter: drop-shadow(0px 1px 2px rgba(0, 0, 0, 0.3));\n",
              "        fill: #FFFFFF;\n",
              "      }\n",
              "    </style>\n",
              "    <button class=\"colab-df-generate\" onclick=\"generateWithVariable('data')\"\n",
              "            title=\"Generate code using this dataframe.\"\n",
              "            style=\"display:none;\">\n",
              "\n",
              "  <svg xmlns=\"http://www.w3.org/2000/svg\" height=\"24px\"viewBox=\"0 0 24 24\"\n",
              "       width=\"24px\">\n",
              "    <path d=\"M7,19H8.4L18.45,9,17,7.55,7,17.6ZM5,21V16.75L18.45,3.32a2,2,0,0,1,2.83,0l1.4,1.43a1.91,1.91,0,0,1,.58,1.4,1.91,1.91,0,0,1-.58,1.4L9.25,21ZM18.45,9,17,7.55Zm-12,3A5.31,5.31,0,0,0,4.9,8.1,5.31,5.31,0,0,0,1,6.5,5.31,5.31,0,0,0,4.9,4.9,5.31,5.31,0,0,0,6.5,1,5.31,5.31,0,0,0,8.1,4.9,5.31,5.31,0,0,0,12,6.5,5.46,5.46,0,0,0,6.5,12Z\"/>\n",
              "  </svg>\n",
              "    </button>\n",
              "    <script>\n",
              "      (() => {\n",
              "      const buttonEl =\n",
              "        document.querySelector('#id_120f4ba3-682d-4ec3-ad55-7d2aa8454f8c button.colab-df-generate');\n",
              "      buttonEl.style.display =\n",
              "        google.colab.kernel.accessAllowed ? 'block' : 'none';\n",
              "\n",
              "      buttonEl.onclick = () => {\n",
              "        google.colab.notebook.generateWithVariable('data');\n",
              "      }\n",
              "      })();\n",
              "    </script>\n",
              "  </div>\n",
              "\n",
              "    </div>\n",
              "  </div>\n"
            ],
            "application/vnd.google.colaboratory.intrinsic+json": {
              "type": "dataframe",
              "variable_name": "data"
            }
          },
          "metadata": {},
          "execution_count": 102
        }
      ]
    },
    {
      "cell_type": "code",
      "source": [
        "data.shape"
      ],
      "metadata": {
        "_uuid": "9b602a32-4c67-4ec4-b9e9-2cb93eed02a9",
        "_cell_guid": "38ae9136-8f43-44b9-aae5-57314f8c947a",
        "id": "iHrDHCaR9gKR",
        "outputId": "788073db-60bb-4917-e09a-a19bc2390981",
        "jupyter": {
          "outputs_hidden": false
        },
        "execution": {
          "iopub.status.busy": "2021-05-25T18:28:00.969695Z",
          "iopub.execute_input": "2021-05-25T18:28:00.970061Z",
          "iopub.status.idle": "2021-05-25T18:28:00.976012Z",
          "shell.execute_reply.started": "2021-05-25T18:28:00.970027Z",
          "shell.execute_reply": "2021-05-25T18:28:00.975121Z"
        },
        "trusted": true,
        "colab": {
          "base_uri": "https://localhost:8080/"
        }
      },
      "execution_count": null,
      "outputs": [
        {
          "output_type": "execute_result",
          "data": {
            "text/plain": [
              "(170, 28)"
            ]
          },
          "metadata": {},
          "execution_count": 103
        }
      ]
    },
    {
      "cell_type": "code",
      "source": [
        "# Dropping unneccesary columns\n",
        "data = data.drop(['filename'],axis=1)"
      ],
      "metadata": {
        "_uuid": "8f2a2540-9998-4d05-bd4b-c972492fd357",
        "_cell_guid": "5bc8dc61-e825-4d1b-8b8d-81964217ad40",
        "id": "veD5BgX49hZa",
        "jupyter": {
          "outputs_hidden": false
        },
        "execution": {
          "iopub.status.busy": "2021-05-25T18:28:05.194688Z",
          "iopub.execute_input": "2021-05-25T18:28:05.19507Z",
          "iopub.status.idle": "2021-05-25T18:28:05.201143Z",
          "shell.execute_reply.started": "2021-05-25T18:28:05.195039Z",
          "shell.execute_reply": "2021-05-25T18:28:05.199882Z"
        },
        "trusted": true
      },
      "execution_count": null,
      "outputs": []
    },
    {
      "cell_type": "markdown",
      "source": [
        "## Labels Encoding"
      ],
      "metadata": {
        "_uuid": "c2bf741c-22c9-45b9-b5a7-b41444b972e9",
        "_cell_guid": "93246619-1c5a-48ba-86e6-398a505ec68a",
        "id": "Nyr0aAAsGXjZ",
        "trusted": true
      }
    },
    {
      "cell_type": "code",
      "source": [
        "genre_list = data.iloc[:, -1]\n",
        "encoder = LabelEncoder()\n",
        "y = encoder.fit_transform(genre_list)"
      ],
      "metadata": {
        "_uuid": "cf03fdbc-3def-4079-9e33-e759dc1c8f68",
        "_cell_guid": "728f9a02-2cde-4350-8084-b73baaad0e32",
        "id": "frI5HH4q-1HS",
        "jupyter": {
          "outputs_hidden": false
        },
        "execution": {
          "iopub.status.busy": "2021-05-25T18:33:18.147619Z",
          "iopub.execute_input": "2021-05-25T18:33:18.148155Z",
          "iopub.status.idle": "2021-05-25T18:33:18.152487Z",
          "shell.execute_reply.started": "2021-05-25T18:33:18.14809Z",
          "shell.execute_reply": "2021-05-25T18:33:18.151888Z"
        },
        "trusted": true
      },
      "execution_count": null,
      "outputs": []
    },
    {
      "cell_type": "markdown",
      "source": [
        "## Scaling"
      ],
      "metadata": {
        "_uuid": "fe56d5fa-ee41-4104-9087-0c0fb23a3d02",
        "_cell_guid": "c0be8e9a-3f8a-4074-9f4c-c51ef0f3d8c7",
        "id": "_2n8a02zGfvP",
        "trusted": true
      }
    },
    {
      "cell_type": "code",
      "source": [
        "scaler = StandardScaler()\n",
        "X = scaler.fit_transform(np.array(data.iloc[:, :-1], dtype = float))"
      ],
      "metadata": {
        "_uuid": "7e33dc73-70f3-4283-88b8-8b45cd832cb1",
        "_cell_guid": "62c85261-6361-46b8-b4d3-1dfe83d81e2a",
        "id": "uqcqn-nyAofk",
        "jupyter": {
          "outputs_hidden": false
        },
        "execution": {
          "iopub.status.busy": "2021-05-25T18:33:20.080353Z",
          "iopub.execute_input": "2021-05-25T18:33:20.080828Z",
          "iopub.status.idle": "2021-05-25T18:33:20.08762Z",
          "shell.execute_reply.started": "2021-05-25T18:33:20.080788Z",
          "shell.execute_reply": "2021-05-25T18:33:20.086808Z"
        },
        "trusted": true
      },
      "execution_count": null,
      "outputs": []
    },
    {
      "cell_type": "markdown",
      "source": [
        "## Train Test split\n"
      ],
      "metadata": {
        "_uuid": "d5643352-10cf-4d0f-9362-4d9bf1e4a219",
        "_cell_guid": "eacc1fa3-181a-4220-b2b5-e677b392f9f1",
        "id": "e3VZvbwpGo9R",
        "trusted": true
      }
    },
    {
      "cell_type": "code",
      "source": [
        "X_train, X_test, y_train, y_test = train_test_split(X, y, test_size=0.33)"
      ],
      "metadata": {
        "_uuid": "e25f19ad-fd34-4f3e-a12a-0f1384c2bbc4",
        "_cell_guid": "d95a0908-dd5d-463f-9cce-cd19b0d2c692",
        "id": "F1GW3VvQA7Rj",
        "jupyter": {
          "outputs_hidden": false
        },
        "execution": {
          "iopub.status.busy": "2021-05-25T18:33:23.007195Z",
          "iopub.execute_input": "2021-05-25T18:33:23.007625Z",
          "iopub.status.idle": "2021-05-25T18:33:23.012806Z",
          "shell.execute_reply.started": "2021-05-25T18:33:23.007589Z",
          "shell.execute_reply": "2021-05-25T18:33:23.011638Z"
        },
        "trusted": true
      },
      "execution_count": null,
      "outputs": []
    },
    {
      "cell_type": "code",
      "source": [
        "X_train.shape"
      ],
      "metadata": {
        "_uuid": "307e5bdb-33b7-4439-805c-e567d347ca77",
        "_cell_guid": "3ed1ffdc-7689-4c0e-903c-f23588e01ce7",
        "jupyter": {
          "outputs_hidden": false
        },
        "execution": {
          "iopub.status.busy": "2021-05-25T18:33:34.528644Z",
          "iopub.execute_input": "2021-05-25T18:33:34.529285Z",
          "iopub.status.idle": "2021-05-25T18:33:34.535998Z",
          "shell.execute_reply.started": "2021-05-25T18:33:34.529241Z",
          "shell.execute_reply": "2021-05-25T18:33:34.534853Z"
        },
        "trusted": true,
        "id": "egFKexvs8huF",
        "outputId": "07e39c8b-483d-4a73-bd5e-1e9cbf946681",
        "colab": {
          "base_uri": "https://localhost:8080/"
        }
      },
      "execution_count": null,
      "outputs": [
        {
          "output_type": "execute_result",
          "data": {
            "text/plain": [
              "(113, 26)"
            ]
          },
          "metadata": {},
          "execution_count": 108
        }
      ]
    },
    {
      "cell_type": "code",
      "source": [
        "X_train.shape[1]"
      ],
      "metadata": {
        "_uuid": "d403ac15-ef01-4507-a6a0-68330d6eb247",
        "_cell_guid": "2523a404-a123-44fa-b675-deb55f495a9b",
        "jupyter": {
          "outputs_hidden": false
        },
        "execution": {
          "iopub.status.busy": "2021-05-25T18:33:34.947955Z",
          "iopub.execute_input": "2021-05-25T18:33:34.948587Z",
          "iopub.status.idle": "2021-05-25T18:33:34.954696Z",
          "shell.execute_reply.started": "2021-05-25T18:33:34.948538Z",
          "shell.execute_reply": "2021-05-25T18:33:34.953888Z"
        },
        "trusted": true,
        "id": "tGR0heAW8huF",
        "outputId": "71ab6369-ade2-4595-ece9-2d62464fd750",
        "colab": {
          "base_uri": "https://localhost:8080/"
        }
      },
      "execution_count": null,
      "outputs": [
        {
          "output_type": "execute_result",
          "data": {
            "text/plain": [
              "26"
            ]
          },
          "metadata": {},
          "execution_count": 109
        }
      ]
    },
    {
      "cell_type": "code",
      "source": [
        "y_train.shape"
      ],
      "metadata": {
        "_uuid": "4cefcc8a-953c-423d-8ffb-53f2f9adac13",
        "_cell_guid": "706cc2a4-0df8-4292-9a44-29e6d175d2d4",
        "jupyter": {
          "outputs_hidden": false
        },
        "execution": {
          "iopub.status.busy": "2021-05-25T18:33:36.846782Z",
          "iopub.execute_input": "2021-05-25T18:33:36.847088Z",
          "iopub.status.idle": "2021-05-25T18:33:36.852506Z",
          "shell.execute_reply.started": "2021-05-25T18:33:36.847063Z",
          "shell.execute_reply": "2021-05-25T18:33:36.851532Z"
        },
        "trusted": true,
        "id": "DG5KNIGF8huF",
        "outputId": "1e05f23c-514b-483f-9eda-f246757d15fe",
        "colab": {
          "base_uri": "https://localhost:8080/"
        }
      },
      "execution_count": null,
      "outputs": [
        {
          "output_type": "execute_result",
          "data": {
            "text/plain": [
              "(113,)"
            ]
          },
          "metadata": {},
          "execution_count": 110
        }
      ]
    },
    {
      "cell_type": "markdown",
      "source": [
        "# Classification\n",
        "\n"
      ],
      "metadata": {
        "_uuid": "8ab11fb0-e1e9-4809-8fea-9b8fc5dbbc2f",
        "_cell_guid": "b48763cf-6f84-4268-9855-82cb44efefc1",
        "id": "Vp2yc5FWG04e",
        "trusted": true
      }
    },
    {
      "cell_type": "code",
      "source": [
        "\n",
        "from keras import models\n",
        "from keras import layers\n",
        "\n",
        "model = models.Sequential()\n",
        "model.add(layers.Dense(512, activation='relu', input_shape=(X_train.shape[1],)))\n",
        "\n",
        "model.add(layers.Dense(256, activation='relu'))\n",
        "\n",
        "model.add(layers.Dense(128, activation='relu'))\n",
        "\n",
        "model.add(layers.Dense(64, activation='relu'))\n",
        "\n",
        "model.add(layers.Dense(10, activation='relu'))\n",
        "\n",
        "model.add(layers.Dense(2, activation='softmax'))\n",
        "\n",
        "# serialize model to JSON\n",
        "model_json = model.to_json()\n",
        "with open(\"model.json\", \"w\") as json_file:\n",
        "    json_file.write(model_json)\n",
        " # serialize weights to HDF5\n",
        "model.save_weights(\"model.weights.h5\")\n",
        "print(\"Saved model to disk\")\n",
        "\n",
        "# plot model\n",
        "plot_model(model, to_file='model_plot.png', show_shapes=True, show_layer_names=True)"
      ],
      "metadata": {
        "_uuid": "de0d4099-9d28-41a2-9446-8f98f9f6cefa",
        "_cell_guid": "9400559f-615d-44c7-a1d3-6a60fda31387",
        "id": "Qj3sc2uFEUMt",
        "jupyter": {
          "outputs_hidden": false
        },
        "execution": {
          "iopub.status.busy": "2021-05-25T18:33:41.59075Z",
          "iopub.execute_input": "2021-05-25T18:33:41.591114Z",
          "iopub.status.idle": "2021-05-25T18:33:42.278892Z",
          "shell.execute_reply.started": "2021-05-25T18:33:41.591064Z",
          "shell.execute_reply": "2021-05-25T18:33:42.278208Z"
        },
        "trusted": true,
        "outputId": "3eaab6e8-5971-4c87-e4d4-8fedb043fc77",
        "colab": {
          "base_uri": "https://localhost:8080/",
          "height": 1000
        }
      },
      "execution_count": null,
      "outputs": [
        {
          "output_type": "stream",
          "name": "stdout",
          "text": [
            "Saved model to disk\n"
          ]
        },
        {
          "output_type": "execute_result",
          "data": {
            "image/png": "[encoded data removed]",
            "text/plain": [
              "<IPython.core.display.Image object>"
            ]
          },
          "metadata": {},
          "execution_count": 111
        }
      ]
    },
    {
      "cell_type": "code",
      "source": [
        "model.summary()"
      ],
      "metadata": {
        "_uuid": "fac1746e-ef08-41d2-976d-0de75e302a70",
        "_cell_guid": "831658cd-a4b9-4c60-850a-26dc2053a09b",
        "jupyter": {
          "outputs_hidden": false
        },
        "execution": {
          "iopub.status.busy": "2021-05-25T18:33:42.280472Z",
          "iopub.execute_input": "2021-05-25T18:33:42.280852Z",
          "iopub.status.idle": "2021-05-25T18:33:42.289493Z",
          "shell.execute_reply.started": "2021-05-25T18:33:42.280825Z",
          "shell.execute_reply": "2021-05-25T18:33:42.288469Z"
        },
        "trusted": true,
        "id": "f4H9UDq-8huG",
        "outputId": "4eae8a26-6b8f-4120-d959-68597aa59ac8",
        "colab": {
          "base_uri": "https://localhost:8080/",
          "height": 321
        }
      },
      "execution_count": null,
      "outputs": [
        {
          "output_type": "display_data",
          "data": {
            "text/plain": [
              "\u001b[1mModel: \"sequential_6\"\u001b[0m\n"
            ],
            "text/html": [
              "<pre style=\"white-space:pre;overflow-x:auto;line-height:normal;font-family:Menlo,'DejaVu Sans Mono',consolas,'Courier New',monospace\"><span style=\"font-weight: bold\">Model: \"sequential_6\"</span>\n",
              "</pre>\n"
            ]
          },
          "metadata": {}
        },
        {
          "output_type": "display_data",
          "data": {
            "text/plain": [
              "┏━━━━━━━━━━━━━━━━━━━━━━━━━━━━━━━━━━━━━━┳━━━━━━━━━━━━━━━━━━━━━━━━━━━━━┳━━━━━━━━━━━━━━━━━┓\n",
              "┃\u001b[1m \u001b[0m\u001b[1mLayer (type)                        \u001b[0m\u001b[1m \u001b[0m┃\u001b[1m \u001b[0m\u001b[1mOutput Shape               \u001b[0m\u001b[1m \u001b[0m┃\u001b[1m \u001b[0m\u001b[1m        Param #\u001b[0m\u001b[1m \u001b[0m┃\n",
              "┡━━━━━━━━━━━━━━━━━━━━━━━━━━━━━━━━━━━━━━╇━━━━━━━━━━━━━━━━━━━━━━━━━━━━━╇━━━━━━━━━━━━━━━━━┩\n",
              "│ dense_36 (\u001b[38;5;33mDense\u001b[0m)                     │ (\u001b[38;5;45mNone\u001b[0m, \u001b[38;5;34m512\u001b[0m)                 │          \u001b[38;5;34m13,824\u001b[0m │\n",
              "├──────────────────────────────────────┼─────────────────────────────┼─────────────────┤\n",
              "│ dense_37 (\u001b[38;5;33mDense\u001b[0m)                     │ (\u001b[38;5;45mNone\u001b[0m, \u001b[38;5;34m256\u001b[0m)                 │         \u001b[38;5;34m131,328\u001b[0m │\n",
              "├──────────────────────────────────────┼─────────────────────────────┼─────────────────┤\n",
              "│ dense_38 (\u001b[38;5;33mDense\u001b[0m)                     │ (\u001b[38;5;45mNone\u001b[0m, \u001b[38;5;34m128\u001b[0m)                 │          \u001b[38;5;34m32,896\u001b[0m │\n",
              "├──────────────────────────────────────┼─────────────────────────────┼─────────────────┤\n",
              "│ dense_39 (\u001b[38;5;33mDense\u001b[0m)                     │ (\u001b[38;5;45mNone\u001b[0m, \u001b[38;5;34m64\u001b[0m)                  │           \u001b[38;5;34m8,256\u001b[0m │\n",
              "├──────────────────────────────────────┼─────────────────────────────┼─────────────────┤\n",
              "│ dense_40 (\u001b[38;5;33mDense\u001b[0m)                     │ (\u001b[38;5;45mNone\u001b[0m, \u001b[38;5;34m10\u001b[0m)                  │             \u001b[38;5;34m650\u001b[0m │\n",
              "├──────────────────────────────────────┼─────────────────────────────┼─────────────────┤\n",
              "│ dense_41 (\u001b[38;5;33mDense\u001b[0m)                     │ (\u001b[38;5;45mNone\u001b[0m, \u001b[38;5;34m2\u001b[0m)                   │              \u001b[38;5;34m22\u001b[0m │\n",
              "└──────────────────────────────────────┴─────────────────────────────┴─────────────────┘\n"
            ],
            "text/html": [
              "<pre style=\"white-space:pre;overflow-x:auto;line-height:normal;font-family:Menlo,'DejaVu Sans Mono',consolas,'Courier New',monospace\">┏━━━━━━━━━━━━━━━━━━━━━━━━━━━━━━━━━━━━━━┳━━━━━━━━━━━━━━━━━━━━━━━━━━━━━┳━━━━━━━━━━━━━━━━━┓\n",
              "┃<span style=\"font-weight: bold\"> Layer (type)                         </span>┃<span style=\"font-weight: bold\"> Output Shape                </span>┃<span style=\"font-weight: bold\">         Param # </span>┃\n",
              "┡━━━━━━━━━━━━━━━━━━━━━━━━━━━━━━━━━━━━━━╇━━━━━━━━━━━━━━━━━━━━━━━━━━━━━╇━━━━━━━━━━━━━━━━━┩\n",
              "│ dense_36 (<span style=\"color: #0087ff; text-decoration-color: #0087ff\">Dense</span>)                     │ (<span style=\"color: #00d7ff; text-decoration-color: #00d7ff\">None</span>, <span style=\"color: #00af00; text-decoration-color: #00af00\">512</span>)                 │          <span style=\"color: #00af00; text-decoration-color: #00af00\">13,824</span> │\n",
              "├──────────────────────────────────────┼─────────────────────────────┼─────────────────┤\n",
              "│ dense_37 (<span style=\"color: #0087ff; text-decoration-color: #0087ff\">Dense</span>)                     │ (<span style=\"color: #00d7ff; text-decoration-color: #00d7ff\">None</span>, <span style=\"color: #00af00; text-decoration-color: #00af00\">256</span>)                 │         <span style=\"color: #00af00; text-decoration-color: #00af00\">131,328</span> │\n",
              "├──────────────────────────────────────┼─────────────────────────────┼─────────────────┤\n",
              "│ dense_38 (<span style=\"color: #0087ff; text-decoration-color: #0087ff\">Dense</span>)                     │ (<span style=\"color: #00d7ff; text-decoration-color: #00d7ff\">None</span>, <span style=\"color: #00af00; text-decoration-color: #00af00\">128</span>)                 │          <span style=\"color: #00af00; text-decoration-color: #00af00\">32,896</span> │\n",
              "├──────────────────────────────────────┼─────────────────────────────┼─────────────────┤\n",
              "│ dense_39 (<span style=\"color: #0087ff; text-decoration-color: #0087ff\">Dense</span>)                     │ (<span style=\"color: #00d7ff; text-decoration-color: #00d7ff\">None</span>, <span style=\"color: #00af00; text-decoration-color: #00af00\">64</span>)                  │           <span style=\"color: #00af00; text-decoration-color: #00af00\">8,256</span> │\n",
              "├──────────────────────────────────────┼─────────────────────────────┼─────────────────┤\n",
              "│ dense_40 (<span style=\"color: #0087ff; text-decoration-color: #0087ff\">Dense</span>)                     │ (<span style=\"color: #00d7ff; text-decoration-color: #00d7ff\">None</span>, <span style=\"color: #00af00; text-decoration-color: #00af00\">10</span>)                  │             <span style=\"color: #00af00; text-decoration-color: #00af00\">650</span> │\n",
              "├──────────────────────────────────────┼─────────────────────────────┼─────────────────┤\n",
              "│ dense_41 (<span style=\"color: #0087ff; text-decoration-color: #0087ff\">Dense</span>)                     │ (<span style=\"color: #00d7ff; text-decoration-color: #00d7ff\">None</span>, <span style=\"color: #00af00; text-decoration-color: #00af00\">2</span>)                   │              <span style=\"color: #00af00; text-decoration-color: #00af00\">22</span> │\n",
              "└──────────────────────────────────────┴─────────────────────────────┴─────────────────┘\n",
              "</pre>\n"
            ]
          },
          "metadata": {}
        },
        {
          "output_type": "display_data",
          "data": {
            "text/plain": [
              "\u001b[1m Total params: \u001b[0m\u001b[38;5;34m186,976\u001b[0m (730.38 KB)\n"
            ],
            "text/html": [
              "<pre style=\"white-space:pre;overflow-x:auto;line-height:normal;font-family:Menlo,'DejaVu Sans Mono',consolas,'Courier New',monospace\"><span style=\"font-weight: bold\"> Total params: </span><span style=\"color: #00af00; text-decoration-color: #00af00\">186,976</span> (730.38 KB)\n",
              "</pre>\n"
            ]
          },
          "metadata": {}
        },
        {
          "output_type": "display_data",
          "data": {
            "text/plain": [
              "\u001b[1m Trainable params: \u001b[0m\u001b[38;5;34m186,976\u001b[0m (730.38 KB)\n"
            ],
            "text/html": [
              "<pre style=\"white-space:pre;overflow-x:auto;line-height:normal;font-family:Menlo,'DejaVu Sans Mono',consolas,'Courier New',monospace\"><span style=\"font-weight: bold\"> Trainable params: </span><span style=\"color: #00af00; text-decoration-color: #00af00\">186,976</span> (730.38 KB)\n",
              "</pre>\n"
            ]
          },
          "metadata": {}
        },
        {
          "output_type": "display_data",
          "data": {
            "text/plain": [
              "\u001b[1m Non-trainable params: \u001b[0m\u001b[38;5;34m0\u001b[0m (0.00 B)\n"
            ],
            "text/html": [
              "<pre style=\"white-space:pre;overflow-x:auto;line-height:normal;font-family:Menlo,'DejaVu Sans Mono',consolas,'Courier New',monospace\"><span style=\"font-weight: bold\"> Non-trainable params: </span><span style=\"color: #00af00; text-decoration-color: #00af00\">0</span> (0.00 B)\n",
              "</pre>\n"
            ]
          },
          "metadata": {}
        }
      ]
    },
    {
      "cell_type": "code",
      "source": [
        "# # loading weights into new model\n",
        "# loaded_model.load_weights(\"model.h5\")\n",
        "# print(\"Loaded model from disk\")\n",
        "\n",
        "# # evaluate loaded model on test data\n",
        "# loaded_model.compile(optimizer='adam',\n",
        "#               loss='sparse_categorical_crossentropy',\n",
        "#               metrics=['accuracy'])\n",
        "# score = loaded_model.evaluate(X, Y, verbose=0)\n",
        "# print(\"%s: %.2f%%\" % (loaded_model.metrics_names[1], score[1]*100))"
      ],
      "metadata": {
        "_uuid": "9ccd1263-7ad3-49f8-bd9b-716c34012ecc",
        "_cell_guid": "24b397f8-1c27-49fb-89ff-f09832b1f15f",
        "jupyter": {
          "outputs_hidden": false
        },
        "execution": {
          "iopub.status.busy": "2021-05-25T18:33:42.291278Z",
          "iopub.execute_input": "2021-05-25T18:33:42.291571Z",
          "iopub.status.idle": "2021-05-25T18:33:42.298903Z",
          "shell.execute_reply.started": "2021-05-25T18:33:42.291546Z",
          "shell.execute_reply": "2021-05-25T18:33:42.298062Z"
        },
        "trusted": true,
        "id": "SfW4LpZX8huH"
      },
      "execution_count": null,
      "outputs": []
    },
    {
      "cell_type": "code",
      "source": [
        "model.compile(optimizer='adam',\n",
        "              loss='sparse_categorical_crossentropy',\n",
        "              metrics=['accuracy'])\n",
        "history = model.fit(X_train,\n",
        "                    y_train,\n",
        "                    epochs=100,\n",
        "                    batch_size=128)"
      ],
      "metadata": {
        "_uuid": "de88a583-b3f6-4972-a763-ddb0278e5cfd",
        "_cell_guid": "27fa88ea-a145-4c10-b021-51d6898d46dd",
        "id": "bP0hVm4aElS7",
        "outputId": "e24fedcc-762a-4473-e01e-a10543a512b9",
        "jupyter": {
          "outputs_hidden": false
        },
        "execution": {
          "iopub.status.busy": "2021-05-25T18:33:42.300174Z",
          "iopub.execute_input": "2021-05-25T18:33:42.300493Z",
          "iopub.status.idle": "2021-05-25T18:33:43.716934Z",
          "shell.execute_reply.started": "2021-05-25T18:33:42.300468Z",
          "shell.execute_reply": "2021-05-25T18:33:43.716264Z"
        },
        "trusted": true,
        "colab": {
          "base_uri": "https://localhost:8080/"
        }
      },
      "execution_count": null,
      "outputs": [
        {
          "output_type": "stream",
          "name": "stdout",
          "text": [
            "Epoch 1/100\n",
            "\u001b[1m1/1\u001b[0m \u001b[32m━━━━━━━━━━━━━━━━━━━━\u001b[0m\u001b[37m\u001b[0m \u001b[1m3s\u001b[0m 3s/step - accuracy: 0.3009 - loss: 0.7025\n",
            "Epoch 2/100\n",
            "\u001b[1m1/1\u001b[0m \u001b[32m━━━━━━━━━━━━━━━━━━━━\u001b[0m\u001b[37m\u001b[0m \u001b[1m0s\u001b[0m 59ms/step - accuracy: 0.9027 - loss: 0.5968\n",
            "Epoch 3/100\n",
            "\u001b[1m1/1\u001b[0m \u001b[32m━━━━━━━━━━━━━━━━━━━━\u001b[0m\u001b[37m\u001b[0m \u001b[1m0s\u001b[0m 56ms/step - accuracy: 0.9027 - loss: 0.4598\n",
            "Epoch 4/100\n",
            "\u001b[1m1/1\u001b[0m \u001b[32m━━━━━━━━━━━━━━━━━━━━\u001b[0m\u001b[37m\u001b[0m \u001b[1m0s\u001b[0m 58ms/step - accuracy: 0.9027 - loss: 0.3503\n",
            "Epoch 5/100\n",
            "\u001b[1m1/1\u001b[0m \u001b[32m━━━━━━━━━━━━━━━━━━━━\u001b[0m\u001b[37m\u001b[0m \u001b[1m0s\u001b[0m 140ms/step - accuracy: 0.9027 - loss: 0.2806\n",
            "Epoch 6/100\n",
            "\u001b[1m1/1\u001b[0m \u001b[32m━━━━━━━━━━━━━━━━━━━━\u001b[0m\u001b[37m\u001b[0m \u001b[1m0s\u001b[0m 59ms/step - accuracy: 0.9027 - loss: 0.2450\n",
            "Epoch 7/100\n",
            "\u001b[1m1/1\u001b[0m \u001b[32m━━━━━━━━━━━━━━━━━━━━\u001b[0m\u001b[37m\u001b[0m \u001b[1m0s\u001b[0m 59ms/step - accuracy: 0.9027 - loss: 0.2267\n",
            "Epoch 8/100\n",
            "\u001b[1m1/1\u001b[0m \u001b[32m━━━━━━━━━━━━━━━━━━━━\u001b[0m\u001b[37m\u001b[0m \u001b[1m0s\u001b[0m 58ms/step - accuracy: 0.9027 - loss: 0.2095\n",
            "Epoch 9/100\n",
            "\u001b[1m1/1\u001b[0m \u001b[32m━━━━━━━━━━━━━━━━━━━━\u001b[0m\u001b[37m\u001b[0m \u001b[1m0s\u001b[0m 59ms/step - accuracy: 0.9027 - loss: 0.1878\n",
            "Epoch 10/100\n",
            "\u001b[1m1/1\u001b[0m \u001b[32m━━━━━━━━━━━━━━━━━━━━\u001b[0m\u001b[37m\u001b[0m \u001b[1m0s\u001b[0m 55ms/step - accuracy: 0.9027 - loss: 0.1632\n",
            "Epoch 11/100\n",
            "\u001b[1m1/1\u001b[0m \u001b[32m━━━━━━━━━━━━━━━━━━━━\u001b[0m\u001b[37m\u001b[0m \u001b[1m0s\u001b[0m 57ms/step - accuracy: 0.9027 - loss: 0.1395\n",
            "Epoch 12/100\n",
            "\u001b[1m1/1\u001b[0m \u001b[32m━━━━━━━━━━━━━━━━━━━━\u001b[0m\u001b[37m\u001b[0m \u001b[1m0s\u001b[0m 59ms/step - accuracy: 0.9027 - loss: 0.1240\n",
            "Epoch 13/100\n",
            "\u001b[1m1/1\u001b[0m \u001b[32m━━━━━━━━━━━━━━━━━━━━\u001b[0m\u001b[37m\u001b[0m \u001b[1m0s\u001b[0m 53ms/step - accuracy: 0.9027 - loss: 0.1147\n",
            "Epoch 14/100\n",
            "\u001b[1m1/1\u001b[0m \u001b[32m━━━━━━━━━━━━━━━━━━━━\u001b[0m\u001b[37m\u001b[0m \u001b[1m0s\u001b[0m 54ms/step - accuracy: 0.9115 - loss: 0.1077\n",
            "Epoch 15/100\n",
            "\u001b[1m1/1\u001b[0m \u001b[32m━━━━━━━━━━━━━━━━━━━━\u001b[0m\u001b[37m\u001b[0m \u001b[1m0s\u001b[0m 53ms/step - accuracy: 0.9381 - loss: 0.1022\n",
            "Epoch 16/100\n",
            "\u001b[1m1/1\u001b[0m \u001b[32m━━━━━━━━━━━━━━━━━━━━\u001b[0m\u001b[37m\u001b[0m \u001b[1m0s\u001b[0m 54ms/step - accuracy: 0.9735 - loss: 0.0967\n",
            "Epoch 17/100\n",
            "\u001b[1m1/1\u001b[0m \u001b[32m━━━━━━━━━━━━━━━━━━━━\u001b[0m\u001b[37m\u001b[0m \u001b[1m0s\u001b[0m 58ms/step - accuracy: 0.9823 - loss: 0.0911\n",
            "Epoch 18/100\n",
            "\u001b[1m1/1\u001b[0m \u001b[32m━━━━━━━━━━━━━━━━━━━━\u001b[0m\u001b[37m\u001b[0m \u001b[1m0s\u001b[0m 55ms/step - accuracy: 0.9823 - loss: 0.0850\n",
            "Epoch 19/100\n",
            "\u001b[1m1/1\u001b[0m \u001b[32m━━━━━━━━━━━━━━━━━━━━\u001b[0m\u001b[37m\u001b[0m \u001b[1m0s\u001b[0m 54ms/step - accuracy: 0.9823 - loss: 0.0789\n",
            "Epoch 20/100\n",
            "\u001b[1m1/1\u001b[0m \u001b[32m━━━━━━━━━━━━━━━━━━━━\u001b[0m\u001b[37m\u001b[0m \u001b[1m0s\u001b[0m 68ms/step - accuracy: 0.9823 - loss: 0.0735\n",
            "Epoch 21/100\n",
            "\u001b[1m1/1\u001b[0m \u001b[32m━━━━━━━━━━━━━━━━━━━━\u001b[0m\u001b[37m\u001b[0m \u001b[1m0s\u001b[0m 82ms/step - accuracy: 0.9912 - loss: 0.0690\n",
            "Epoch 22/100\n",
            "\u001b[1m1/1\u001b[0m \u001b[32m━━━━━━━━━━━━━━━━━━━━\u001b[0m\u001b[37m\u001b[0m \u001b[1m0s\u001b[0m 59ms/step - accuracy: 0.9912 - loss: 0.0654\n",
            "Epoch 23/100\n",
            "\u001b[1m1/1\u001b[0m \u001b[32m━━━━━━━━━━━━━━━━━━━━\u001b[0m\u001b[37m\u001b[0m \u001b[1m0s\u001b[0m 60ms/step - accuracy: 0.9912 - loss: 0.0626\n",
            "Epoch 24/100\n",
            "\u001b[1m1/1\u001b[0m \u001b[32m━━━━━━━━━━━━━━━━━━━━\u001b[0m\u001b[37m\u001b[0m \u001b[1m0s\u001b[0m 54ms/step - accuracy: 1.0000 - loss: 0.0601\n",
            "Epoch 25/100\n",
            "\u001b[1m1/1\u001b[0m \u001b[32m━━━━━━━━━━━━━━━━━━━━\u001b[0m\u001b[37m\u001b[0m \u001b[1m0s\u001b[0m 56ms/step - accuracy: 1.0000 - loss: 0.0580\n",
            "Epoch 26/100\n",
            "\u001b[1m1/1\u001b[0m \u001b[32m━━━━━━━━━━━━━━━━━━━━\u001b[0m\u001b[37m\u001b[0m \u001b[1m0s\u001b[0m 58ms/step - accuracy: 1.0000 - loss: 0.0558\n",
            "Epoch 27/100\n",
            "\u001b[1m1/1\u001b[0m \u001b[32m━━━━━━━━━━━━━━━━━━━━\u001b[0m\u001b[37m\u001b[0m \u001b[1m0s\u001b[0m 56ms/step - accuracy: 1.0000 - loss: 0.0533\n",
            "Epoch 28/100\n",
            "\u001b[1m1/1\u001b[0m \u001b[32m━━━━━━━━━━━━━━━━━━━━\u001b[0m\u001b[37m\u001b[0m \u001b[1m0s\u001b[0m 57ms/step - accuracy: 1.0000 - loss: 0.0507\n",
            "Epoch 29/100\n",
            "\u001b[1m1/1\u001b[0m \u001b[32m━━━━━━━━━━━━━━━━━━━━\u001b[0m\u001b[37m\u001b[0m \u001b[1m0s\u001b[0m 78ms/step - accuracy: 1.0000 - loss: 0.0480\n",
            "Epoch 30/100\n",
            "\u001b[1m1/1\u001b[0m \u001b[32m━━━━━━━━━━━━━━━━━━━━\u001b[0m\u001b[37m\u001b[0m \u001b[1m0s\u001b[0m 121ms/step - accuracy: 1.0000 - loss: 0.0453\n",
            "Epoch 31/100\n",
            "\u001b[1m1/1\u001b[0m \u001b[32m━━━━━━━━━━━━━━━━━━━━\u001b[0m\u001b[37m\u001b[0m \u001b[1m0s\u001b[0m 59ms/step - accuracy: 1.0000 - loss: 0.0425\n",
            "Epoch 32/100\n",
            "\u001b[1m1/1\u001b[0m \u001b[32m━━━━━━━━━━━━━━━━━━━━\u001b[0m\u001b[37m\u001b[0m \u001b[1m0s\u001b[0m 55ms/step - accuracy: 1.0000 - loss: 0.0394\n",
            "Epoch 33/100\n",
            "\u001b[1m1/1\u001b[0m \u001b[32m━━━━━━━━━━━━━━━━━━━━\u001b[0m\u001b[37m\u001b[0m \u001b[1m0s\u001b[0m 59ms/step - accuracy: 1.0000 - loss: 0.0362\n",
            "Epoch 34/100\n",
            "\u001b[1m1/1\u001b[0m \u001b[32m━━━━━━━━━━━━━━━━━━━━\u001b[0m\u001b[37m\u001b[0m \u001b[1m0s\u001b[0m 65ms/step - accuracy: 1.0000 - loss: 0.0329\n",
            "Epoch 35/100\n",
            "\u001b[1m1/1\u001b[0m \u001b[32m━━━━━━━━━━━━━━━━━━━━\u001b[0m\u001b[37m\u001b[0m \u001b[1m0s\u001b[0m 69ms/step - accuracy: 1.0000 - loss: 0.0295\n",
            "Epoch 36/100\n",
            "\u001b[1m1/1\u001b[0m \u001b[32m━━━━━━━━━━━━━━━━━━━━\u001b[0m\u001b[37m\u001b[0m \u001b[1m0s\u001b[0m 135ms/step - accuracy: 1.0000 - loss: 0.0260\n",
            "Epoch 37/100\n",
            "\u001b[1m1/1\u001b[0m \u001b[32m━━━━━━━━━━━━━━━━━━━━\u001b[0m\u001b[37m\u001b[0m \u001b[1m0s\u001b[0m 58ms/step - accuracy: 1.0000 - loss: 0.0226\n",
            "Epoch 38/100\n",
            "\u001b[1m1/1\u001b[0m \u001b[32m━━━━━━━━━━━━━━━━━━━━\u001b[0m\u001b[37m\u001b[0m \u001b[1m0s\u001b[0m 55ms/step - accuracy: 1.0000 - loss: 0.0193\n",
            "Epoch 39/100\n",
            "\u001b[1m1/1\u001b[0m \u001b[32m━━━━━━━━━━━━━━━━━━━━\u001b[0m\u001b[37m\u001b[0m \u001b[1m0s\u001b[0m 55ms/step - accuracy: 1.0000 - loss: 0.0163\n",
            "Epoch 40/100\n",
            "\u001b[1m1/1\u001b[0m \u001b[32m━━━━━━━━━━━━━━━━━━━━\u001b[0m\u001b[37m\u001b[0m \u001b[1m0s\u001b[0m 57ms/step - accuracy: 1.0000 - loss: 0.0134\n",
            "Epoch 41/100\n",
            "\u001b[1m1/1\u001b[0m \u001b[32m━━━━━━━━━━━━━━━━━━━━\u001b[0m\u001b[37m\u001b[0m \u001b[1m0s\u001b[0m 62ms/step - accuracy: 1.0000 - loss: 0.0109\n",
            "Epoch 42/100\n",
            "\u001b[1m1/1\u001b[0m \u001b[32m━━━━━━━━━━━━━━━━━━━━\u001b[0m\u001b[37m\u001b[0m \u001b[1m0s\u001b[0m 58ms/step - accuracy: 1.0000 - loss: 0.0087\n",
            "Epoch 43/100\n",
            "\u001b[1m1/1\u001b[0m \u001b[32m━━━━━━━━━━━━━━━━━━━━\u001b[0m\u001b[37m\u001b[0m \u001b[1m0s\u001b[0m 54ms/step - accuracy: 1.0000 - loss: 0.0068\n",
            "Epoch 44/100\n",
            "\u001b[1m1/1\u001b[0m \u001b[32m━━━━━━━━━━━━━━━━━━━━\u001b[0m\u001b[37m\u001b[0m \u001b[1m0s\u001b[0m 55ms/step - accuracy: 1.0000 - loss: 0.0054\n",
            "Epoch 45/100\n",
            "\u001b[1m1/1\u001b[0m \u001b[32m━━━━━━━━━━━━━━━━━━━━\u001b[0m\u001b[37m\u001b[0m \u001b[1m0s\u001b[0m 53ms/step - accuracy: 1.0000 - loss: 0.0043\n",
            "Epoch 46/100\n",
            "\u001b[1m1/1\u001b[0m \u001b[32m━━━━━━━━━━━━━━━━━━━━\u001b[0m\u001b[37m\u001b[0m \u001b[1m0s\u001b[0m 62ms/step - accuracy: 1.0000 - loss: 0.0033\n",
            "Epoch 47/100\n",
            "\u001b[1m1/1\u001b[0m \u001b[32m━━━━━━━━━━━━━━━━━━━━\u001b[0m\u001b[37m\u001b[0m \u001b[1m0s\u001b[0m 56ms/step - accuracy: 1.0000 - loss: 0.0026\n",
            "Epoch 48/100\n",
            "\u001b[1m1/1\u001b[0m \u001b[32m━━━━━━━━━━━━━━━━━━━━\u001b[0m\u001b[37m\u001b[0m \u001b[1m0s\u001b[0m 61ms/step - accuracy: 1.0000 - loss: 0.0021\n",
            "Epoch 49/100\n",
            "\u001b[1m1/1\u001b[0m \u001b[32m━━━━━━━━━━━━━━━━━━━━\u001b[0m\u001b[37m\u001b[0m \u001b[1m0s\u001b[0m 67ms/step - accuracy: 1.0000 - loss: 0.0017\n",
            "Epoch 50/100\n",
            "\u001b[1m1/1\u001b[0m \u001b[32m━━━━━━━━━━━━━━━━━━━━\u001b[0m\u001b[37m\u001b[0m \u001b[1m0s\u001b[0m 73ms/step - accuracy: 1.0000 - loss: 0.0014\n",
            "Epoch 51/100\n",
            "\u001b[1m1/1\u001b[0m \u001b[32m━━━━━━━━━━━━━━━━━━━━\u001b[0m\u001b[37m\u001b[0m \u001b[1m0s\u001b[0m 131ms/step - accuracy: 1.0000 - loss: 0.0012\n",
            "Epoch 52/100\n",
            "\u001b[1m1/1\u001b[0m \u001b[32m━━━━━━━━━━━━━━━━━━━━\u001b[0m\u001b[37m\u001b[0m \u001b[1m0s\u001b[0m 56ms/step - accuracy: 1.0000 - loss: 9.8841e-04\n",
            "Epoch 53/100\n",
            "\u001b[1m1/1\u001b[0m \u001b[32m━━━━━━━━━━━━━━━━━━━━\u001b[0m\u001b[37m\u001b[0m \u001b[1m0s\u001b[0m 56ms/step - accuracy: 1.0000 - loss: 8.1896e-04\n",
            "Epoch 54/100\n",
            "\u001b[1m1/1\u001b[0m \u001b[32m━━━━━━━━━━━━━━━━━━━━\u001b[0m\u001b[37m\u001b[0m \u001b[1m0s\u001b[0m 63ms/step - accuracy: 1.0000 - loss: 6.7676e-04\n",
            "Epoch 55/100\n",
            "\u001b[1m1/1\u001b[0m \u001b[32m━━━━━━━━━━━━━━━━━━━━\u001b[0m\u001b[37m\u001b[0m \u001b[1m0s\u001b[0m 57ms/step - accuracy: 1.0000 - loss: 5.6512e-04\n",
            "Epoch 56/100\n",
            "\u001b[1m1/1\u001b[0m \u001b[32m━━━━━━━━━━━━━━━━━━━━\u001b[0m\u001b[37m\u001b[0m \u001b[1m0s\u001b[0m 58ms/step - accuracy: 1.0000 - loss: 4.7663e-04\n",
            "Epoch 57/100\n",
            "\u001b[1m1/1\u001b[0m \u001b[32m━━━━━━━━━━━━━━━━━━━━\u001b[0m\u001b[37m\u001b[0m \u001b[1m0s\u001b[0m 56ms/step - accuracy: 1.0000 - loss: 4.0580e-04\n",
            "Epoch 58/100\n",
            "\u001b[1m1/1\u001b[0m \u001b[32m━━━━━━━━━━━━━━━━━━━━\u001b[0m\u001b[37m\u001b[0m \u001b[1m0s\u001b[0m 56ms/step - accuracy: 1.0000 - loss: 3.4845e-04\n",
            "Epoch 59/100\n",
            "\u001b[1m1/1\u001b[0m \u001b[32m━━━━━━━━━━━━━━━━━━━━\u001b[0m\u001b[37m\u001b[0m \u001b[1m0s\u001b[0m 66ms/step - accuracy: 1.0000 - loss: 3.0269e-04\n",
            "Epoch 60/100\n",
            "\u001b[1m1/1\u001b[0m \u001b[32m━━━━━━━━━━━━━━━━━━━━\u001b[0m\u001b[37m\u001b[0m \u001b[1m0s\u001b[0m 151ms/step - accuracy: 1.0000 - loss: 2.6591e-04\n",
            "Epoch 61/100\n",
            "\u001b[1m1/1\u001b[0m \u001b[32m━━━━━━━━━━━━━━━━━━━━\u001b[0m\u001b[37m\u001b[0m \u001b[1m0s\u001b[0m 82ms/step - accuracy: 1.0000 - loss: 2.3490e-04\n",
            "Epoch 62/100\n",
            "\u001b[1m1/1\u001b[0m \u001b[32m━━━━━━━━━━━━━━━━━━━━\u001b[0m\u001b[37m\u001b[0m \u001b[1m0s\u001b[0m 110ms/step - accuracy: 1.0000 - loss: 2.0867e-04\n",
            "Epoch 63/100\n",
            "\u001b[1m1/1\u001b[0m \u001b[32m━━━━━━━━━━━━━━━━━━━━\u001b[0m\u001b[37m\u001b[0m \u001b[1m0s\u001b[0m 126ms/step - accuracy: 1.0000 - loss: 1.8631e-04\n",
            "Epoch 64/100\n",
            "\u001b[1m1/1\u001b[0m \u001b[32m━━━━━━━━━━━━━━━━━━━━\u001b[0m\u001b[37m\u001b[0m \u001b[1m0s\u001b[0m 148ms/step - accuracy: 1.0000 - loss: 1.6733e-04\n",
            "Epoch 65/100\n",
            "\u001b[1m1/1\u001b[0m \u001b[32m━━━━━━━━━━━━━━━━━━━━\u001b[0m\u001b[37m\u001b[0m \u001b[1m0s\u001b[0m 79ms/step - accuracy: 1.0000 - loss: 1.5079e-04\n",
            "Epoch 66/100\n",
            "\u001b[1m1/1\u001b[0m \u001b[32m━━━━━━━━━━━━━━━━━━━━\u001b[0m\u001b[37m\u001b[0m \u001b[1m0s\u001b[0m 78ms/step - accuracy: 1.0000 - loss: 1.3708e-04\n",
            "Epoch 67/100\n",
            "\u001b[1m1/1\u001b[0m \u001b[32m━━━━━━━━━━━━━━━━━━━━\u001b[0m\u001b[37m\u001b[0m \u001b[1m0s\u001b[0m 75ms/step - accuracy: 1.0000 - loss: 1.2539e-04\n",
            "Epoch 68/100\n",
            "\u001b[1m1/1\u001b[0m \u001b[32m━━━━━━━━━━━━━━━━━━━━\u001b[0m\u001b[37m\u001b[0m \u001b[1m0s\u001b[0m 142ms/step - accuracy: 1.0000 - loss: 1.1532e-04\n",
            "Epoch 69/100\n",
            "\u001b[1m1/1\u001b[0m \u001b[32m━━━━━━━━━━━━━━━━━━━━\u001b[0m\u001b[37m\u001b[0m \u001b[1m0s\u001b[0m 79ms/step - accuracy: 1.0000 - loss: 1.0661e-04\n",
            "Epoch 70/100\n",
            "\u001b[1m1/1\u001b[0m \u001b[32m━━━━━━━━━━━━━━━━━━━━\u001b[0m\u001b[37m\u001b[0m \u001b[1m0s\u001b[0m 93ms/step - accuracy: 1.0000 - loss: 9.9045e-05\n",
            "Epoch 71/100\n",
            "\u001b[1m1/1\u001b[0m \u001b[32m━━━━━━━━━━━━━━━━━━━━\u001b[0m\u001b[37m\u001b[0m \u001b[1m0s\u001b[0m 128ms/step - accuracy: 1.0000 - loss: 9.2399e-05\n",
            "Epoch 72/100\n",
            "\u001b[1m1/1\u001b[0m \u001b[32m━━━━━━━━━━━━━━━━━━━━\u001b[0m\u001b[37m\u001b[0m \u001b[1m0s\u001b[0m 88ms/step - accuracy: 1.0000 - loss: 8.6507e-05\n",
            "Epoch 73/100\n",
            "\u001b[1m1/1\u001b[0m \u001b[32m━━━━━━━━━━━━━━━━━━━━\u001b[0m\u001b[37m\u001b[0m \u001b[1m0s\u001b[0m 89ms/step - accuracy: 1.0000 - loss: 8.1274e-05\n",
            "Epoch 74/100\n",
            "\u001b[1m1/1\u001b[0m \u001b[32m━━━━━━━━━━━━━━━━━━━━\u001b[0m\u001b[37m\u001b[0m \u001b[1m0s\u001b[0m 142ms/step - accuracy: 1.0000 - loss: 7.6620e-05\n",
            "Epoch 75/100\n",
            "\u001b[1m1/1\u001b[0m \u001b[32m━━━━━━━━━━━━━━━━━━━━\u001b[0m\u001b[37m\u001b[0m \u001b[1m0s\u001b[0m 142ms/step - accuracy: 1.0000 - loss: 7.2468e-05\n",
            "Epoch 76/100\n",
            "\u001b[1m1/1\u001b[0m \u001b[32m━━━━━━━━━━━━━━━━━━━━\u001b[0m\u001b[37m\u001b[0m \u001b[1m0s\u001b[0m 138ms/step - accuracy: 1.0000 - loss: 6.8739e-05\n",
            "Epoch 77/100\n",
            "\u001b[1m1/1\u001b[0m \u001b[32m━━━━━━━━━━━━━━━━━━━━\u001b[0m\u001b[37m\u001b[0m \u001b[1m0s\u001b[0m 158ms/step - accuracy: 1.0000 - loss: 6.5391e-05\n",
            "Epoch 78/100\n",
            "\u001b[1m1/1\u001b[0m \u001b[32m━━━━━━━━━━━━━━━━━━━━\u001b[0m\u001b[37m\u001b[0m \u001b[1m0s\u001b[0m 81ms/step - accuracy: 1.0000 - loss: 6.2379e-05\n",
            "Epoch 79/100\n",
            "\u001b[1m1/1\u001b[0m \u001b[32m━━━━━━━━━━━━━━━━━━━━\u001b[0m\u001b[37m\u001b[0m \u001b[1m0s\u001b[0m 118ms/step - accuracy: 1.0000 - loss: 5.9666e-05\n",
            "Epoch 80/100\n",
            "\u001b[1m1/1\u001b[0m \u001b[32m━━━━━━━━━━━━━━━━━━━━\u001b[0m\u001b[37m\u001b[0m \u001b[1m0s\u001b[0m 127ms/step - accuracy: 1.0000 - loss: 5.7220e-05\n",
            "Epoch 81/100\n",
            "\u001b[1m1/1\u001b[0m \u001b[32m━━━━━━━━━━━━━━━━━━━━\u001b[0m\u001b[37m\u001b[0m \u001b[1m0s\u001b[0m 142ms/step - accuracy: 1.0000 - loss: 5.4992e-05\n",
            "Epoch 82/100\n",
            "\u001b[1m1/1\u001b[0m \u001b[32m━━━━━━━━━━━━━━━━━━━━\u001b[0m\u001b[37m\u001b[0m \u001b[1m0s\u001b[0m 112ms/step - accuracy: 1.0000 - loss: 5.2951e-05\n",
            "Epoch 83/100\n",
            "\u001b[1m1/1\u001b[0m \u001b[32m━━━━━━━━━━━━━━━━━━━━\u001b[0m\u001b[37m\u001b[0m \u001b[1m0s\u001b[0m 58ms/step - accuracy: 1.0000 - loss: 5.1104e-05\n",
            "Epoch 84/100\n",
            "\u001b[1m1/1\u001b[0m \u001b[32m━━━━━━━━━━━━━━━━━━━━\u001b[0m\u001b[37m\u001b[0m \u001b[1m0s\u001b[0m 61ms/step - accuracy: 1.0000 - loss: 4.9504e-05\n",
            "Epoch 85/100\n",
            "\u001b[1m1/1\u001b[0m \u001b[32m━━━━━━━━━━━━━━━━━━━━\u001b[0m\u001b[37m\u001b[0m \u001b[1m0s\u001b[0m 138ms/step - accuracy: 1.0000 - loss: 4.8027e-05\n",
            "Epoch 86/100\n",
            "\u001b[1m1/1\u001b[0m \u001b[32m━━━━━━━━━━━━━━━━━━━━\u001b[0m\u001b[37m\u001b[0m \u001b[1m0s\u001b[0m 58ms/step - accuracy: 1.0000 - loss: 4.6650e-05\n",
            "Epoch 87/100\n",
            "\u001b[1m1/1\u001b[0m \u001b[32m━━━━━━━━━━━━━━━━━━━━\u001b[0m\u001b[37m\u001b[0m \u001b[1m0s\u001b[0m 56ms/step - accuracy: 1.0000 - loss: 4.5363e-05\n",
            "Epoch 88/100\n",
            "\u001b[1m1/1\u001b[0m \u001b[32m━━━━━━━━━━━━━━━━━━━━\u001b[0m\u001b[37m\u001b[0m \u001b[1m0s\u001b[0m 59ms/step - accuracy: 1.0000 - loss: 4.4171e-05\n",
            "Epoch 89/100\n",
            "\u001b[1m1/1\u001b[0m \u001b[32m━━━━━━━━━━━━━━━━━━━━\u001b[0m\u001b[37m\u001b[0m \u001b[1m0s\u001b[0m 149ms/step - accuracy: 1.0000 - loss: 4.3059e-05\n",
            "Epoch 90/100\n",
            "\u001b[1m1/1\u001b[0m \u001b[32m━━━━━━━━━━━━━━━━━━━━\u001b[0m\u001b[37m\u001b[0m \u001b[1m0s\u001b[0m 134ms/step - accuracy: 1.0000 - loss: 4.2016e-05\n",
            "Epoch 91/100\n",
            "\u001b[1m1/1\u001b[0m \u001b[32m━━━━━━━━━━━━━━━━━━━━\u001b[0m\u001b[37m\u001b[0m \u001b[1m0s\u001b[0m 137ms/step - accuracy: 1.0000 - loss: 4.1046e-05\n",
            "Epoch 92/100\n",
            "\u001b[1m1/1\u001b[0m \u001b[32m━━━━━━━━━━━━━━━━━━━━\u001b[0m\u001b[37m\u001b[0m \u001b[1m0s\u001b[0m 57ms/step - accuracy: 1.0000 - loss: 4.0146e-05\n",
            "Epoch 93/100\n",
            "\u001b[1m1/1\u001b[0m \u001b[32m━━━━━━━━━━━━━━━━━━━━\u001b[0m\u001b[37m\u001b[0m \u001b[1m0s\u001b[0m 55ms/step - accuracy: 1.0000 - loss: 3.9300e-05\n",
            "Epoch 94/100\n",
            "\u001b[1m1/1\u001b[0m \u001b[32m━━━━━━━━━━━━━━━━━━━━\u001b[0m\u001b[37m\u001b[0m \u001b[1m0s\u001b[0m 59ms/step - accuracy: 1.0000 - loss: 3.8506e-05\n",
            "Epoch 95/100\n",
            "\u001b[1m1/1\u001b[0m \u001b[32m━━━━━━━━━━━━━━━━━━━━\u001b[0m\u001b[37m\u001b[0m \u001b[1m0s\u001b[0m 59ms/step - accuracy: 1.0000 - loss: 3.7769e-05\n",
            "Epoch 96/100\n",
            "\u001b[1m1/1\u001b[0m \u001b[32m━━━━━━━━━━━━━━━━━━━━\u001b[0m\u001b[37m\u001b[0m \u001b[1m0s\u001b[0m 60ms/step - accuracy: 1.0000 - loss: 3.7076e-05\n",
            "Epoch 97/100\n",
            "\u001b[1m1/1\u001b[0m \u001b[32m━━━━━━━━━━━━━━━━━━━━\u001b[0m\u001b[37m\u001b[0m \u001b[1m0s\u001b[0m 57ms/step - accuracy: 1.0000 - loss: 3.6425e-05\n",
            "Epoch 98/100\n",
            "\u001b[1m1/1\u001b[0m \u001b[32m━━━━━━━━━━━━━━━━━━━━\u001b[0m\u001b[37m\u001b[0m \u001b[1m0s\u001b[0m 55ms/step - accuracy: 1.0000 - loss: 3.5816e-05\n",
            "Epoch 99/100\n",
            "\u001b[1m1/1\u001b[0m \u001b[32m━━━━━━━━━━━━━━━━━━━━\u001b[0m\u001b[37m\u001b[0m \u001b[1m0s\u001b[0m 58ms/step - accuracy: 1.0000 - loss: 3.5244e-05\n",
            "Epoch 100/100\n",
            "\u001b[1m1/1\u001b[0m \u001b[32m━━━━━━━━━━━━━━━━━━━━\u001b[0m\u001b[37m\u001b[0m \u001b[1m0s\u001b[0m 61ms/step - accuracy: 1.0000 - loss: 3.4699e-05\n"
          ]
        }
      ]
    },
    {
      "cell_type": "code",
      "source": [
        "test_loss, test_acc = model.evaluate(X_test,y_test)"
      ],
      "metadata": {
        "_uuid": "82de23de-1904-4b3c-af01-16bf690de648",
        "_cell_guid": "bc389573-345c-402a-96d7-315b7f0a6333",
        "id": "0m1J0_wUFK4C",
        "outputId": "4c79173e-dbd7-47dc-e225-3400f0b6f524",
        "jupyter": {
          "outputs_hidden": false
        },
        "execution": {
          "iopub.status.busy": "2021-05-25T18:33:43.718619Z",
          "iopub.execute_input": "2021-05-25T18:33:43.71887Z",
          "iopub.status.idle": "2021-05-25T18:33:43.898463Z",
          "shell.execute_reply.started": "2021-05-25T18:33:43.718845Z",
          "shell.execute_reply": "2021-05-25T18:33:43.89773Z"
        },
        "trusted": true,
        "colab": {
          "base_uri": "https://localhost:8080/"
        }
      },
      "execution_count": null,
      "outputs": [
        {
          "output_type": "stream",
          "name": "stdout",
          "text": [
            "\u001b[1m2/2\u001b[0m \u001b[32m━━━━━━━━━━━━━━━━━━━━\u001b[0m\u001b[37m\u001b[0m \u001b[1m0s\u001b[0m 28ms/step - accuracy: 0.9558 - loss: 0.2317 \n"
          ]
        }
      ]
    },
    {
      "cell_type": "markdown",
      "source": [
        "### Accuracy"
      ],
      "metadata": {
        "_uuid": "3abb243b-aeec-441e-ad14-d9c581c460a4",
        "_cell_guid": "8eff8f9d-4fd5-4c94-ba49-63c812cef0d5",
        "trusted": true,
        "id": "AwtNTawD8huI"
      }
    },
    {
      "cell_type": "code",
      "source": [
        "print('test_acc: ',test_acc)"
      ],
      "metadata": {
        "_uuid": "6121f2ab-6f0d-4651-afd0-fb81ccf26e96",
        "_cell_guid": "32b0daab-872e-4634-af38-306b373a7092",
        "id": "f6HrjXeUF0Ko",
        "outputId": "d398d24c-0a27-4fe6-8768-44e3cbb6666f",
        "jupyter": {
          "outputs_hidden": false
        },
        "execution": {
          "iopub.status.busy": "2021-05-25T18:33:43.90014Z",
          "iopub.execute_input": "2021-05-25T18:33:43.900728Z",
          "iopub.status.idle": "2021-05-25T18:33:43.906612Z",
          "shell.execute_reply.started": "2021-05-25T18:33:43.900685Z",
          "shell.execute_reply": "2021-05-25T18:33:43.905684Z"
        },
        "trusted": true,
        "colab": {
          "base_uri": "https://localhost:8080/"
        }
      },
      "execution_count": null,
      "outputs": [
        {
          "output_type": "stream",
          "name": "stdout",
          "text": [
            "test_acc:  0.9649122953414917\n"
          ]
        }
      ]
    },
    {
      "cell_type": "markdown",
      "source": [
        "## Predictions on Test Data"
      ],
      "metadata": {
        "_uuid": "24b0efae-6e95-4b38-80e9-58e2b19f9f07",
        "_cell_guid": "517ee6ee-798f-4bbe-a93f-f45983d01b0d",
        "id": "r3hb8s1l4rBA",
        "trusted": true
      }
    },
    {
      "cell_type": "code",
      "source": [
        "predictions = model.predict(X_test)\n",
        "print(predictions[0].shape)\n",
        "print(np.sum(predictions[0]))\n",
        "print(predictions[:4])\n",
        "print(y_test[:4])"
      ],
      "metadata": {
        "_uuid": "69a5c17c-d042-4e59-b5df-dd8578e4b40d",
        "_cell_guid": "88cbd36d-674e-4fee-b5bd-d062cae3f7ce",
        "id": "gudBAhIXJIi2",
        "jupyter": {
          "outputs_hidden": false
        },
        "execution": {
          "iopub.status.busy": "2021-05-25T18:33:43.907964Z",
          "iopub.execute_input": "2021-05-25T18:33:43.908305Z",
          "iopub.status.idle": "2021-05-25T18:33:44.026346Z",
          "shell.execute_reply.started": "2021-05-25T18:33:43.908278Z",
          "shell.execute_reply": "2021-05-25T18:33:44.025154Z"
        },
        "trusted": true,
        "outputId": "c8ebf2cc-e683-413a-aa56-1358efa5eda0",
        "colab": {
          "base_uri": "https://localhost:8080/"
        }
      },
      "execution_count": null,
      "outputs": [
        {
          "output_type": "stream",
          "name": "stderr",
          "text": [
            "WARNING:tensorflow:5 out of the last 5 calls to <function TensorFlowTrainer.make_predict_function.<locals>.one_step_on_data_distributed at 0x7962d7c53100> triggered tf.function retracing. Tracing is expensive and the excessive number of tracings could be due to (1) creating @tf.function repeatedly in a loop, (2) passing tensors with different shapes, (3) passing Python objects instead of tensors. For (1), please define your @tf.function outside of the loop. For (2), @tf.function has reduce_retracing=True option that can avoid unnecessary retracing. For (3), please refer to https://www.tensorflow.org/guide/function#controlling_retracing and https://www.tensorflow.org/api_docs/python/tf/function for  more details.\n"
          ]
        },
        {
          "output_type": "stream",
          "name": "stdout",
          "text": [
            "\r\u001b[1m1/2\u001b[0m \u001b[32m━━━━━━━━━━\u001b[0m\u001b[37m━━━━━━━━━━\u001b[0m \u001b[1m0s\u001b[0m 85ms/step"
          ]
        },
        {
          "output_type": "stream",
          "name": "stderr",
          "text": [
            "WARNING:tensorflow:6 out of the last 6 calls to <function TensorFlowTrainer.make_predict_function.<locals>.one_step_on_data_distributed at 0x7962d7c53100> triggered tf.function retracing. Tracing is expensive and the excessive number of tracings could be due to (1) creating @tf.function repeatedly in a loop, (2) passing tensors with different shapes, (3) passing Python objects instead of tensors. For (1), please define your @tf.function outside of the loop. For (2), @tf.function has reduce_retracing=True option that can avoid unnecessary retracing. For (3), please refer to https://www.tensorflow.org/guide/function#controlling_retracing and https://www.tensorflow.org/api_docs/python/tf/function for  more details.\n"
          ]
        },
        {
          "output_type": "stream",
          "name": "stdout",
          "text": [
            "\u001b[1m2/2\u001b[0m \u001b[32m━━━━━━━━━━━━━━━━━━━━\u001b[0m\u001b[37m\u001b[0m \u001b[1m0s\u001b[0m 93ms/step\n",
            "(2,)\n",
            "0.99999994\n",
            "[[2.4846908e-12 9.9999994e-01]\n",
            " [9.9715906e-01 2.8408435e-03]\n",
            " [9.9997824e-01 2.1643891e-05]\n",
            " [2.9072161e-11 9.9999994e-01]]\n",
            "[1 1 0 1]\n"
          ]
        }
      ]
    },
    {
      "cell_type": "code",
      "source": [
        "df = pd.DataFrame(predictions, columns = ['Negative','Positive'])"
      ],
      "metadata": {
        "_uuid": "37dd58df-003b-4a56-b60f-60cc7220d2e2",
        "_cell_guid": "4d2af6aa-564a-458c-8089-3c59ed0d9d74",
        "jupyter": {
          "outputs_hidden": false
        },
        "execution": {
          "iopub.status.busy": "2021-05-25T18:35:00.139482Z",
          "iopub.execute_input": "2021-05-25T18:35:00.139891Z",
          "iopub.status.idle": "2021-05-25T18:35:00.146036Z",
          "shell.execute_reply.started": "2021-05-25T18:35:00.139852Z",
          "shell.execute_reply": "2021-05-25T18:35:00.145183Z"
        },
        "trusted": true,
        "id": "hGR-v3_R8huK"
      },
      "execution_count": null,
      "outputs": []
    },
    {
      "cell_type": "code",
      "source": [
        "a = df.iloc[:,0] < df.iloc[:,1]\n",
        "a = a*1"
      ],
      "metadata": {
        "execution": {
          "iopub.status.busy": "2021-05-25T18:35:19.355604Z",
          "iopub.execute_input": "2021-05-25T18:35:19.355938Z",
          "iopub.status.idle": "2021-05-25T18:35:19.361265Z",
          "shell.execute_reply.started": "2021-05-25T18:35:19.355909Z",
          "shell.execute_reply": "2021-05-25T18:35:19.36018Z"
        },
        "trusted": true,
        "id": "SVk1v2J-8huL"
      },
      "execution_count": null,
      "outputs": []
    },
    {
      "cell_type": "code",
      "source": [
        "from sklearn.metrics import roc_curve\n",
        "from sklearn.metrics import roc_auc_score\n",
        "from matplotlib import pyplot"
      ],
      "metadata": {
        "execution": {
          "iopub.status.busy": "2021-05-25T18:35:32.238999Z",
          "iopub.execute_input": "2021-05-25T18:35:32.239402Z",
          "iopub.status.idle": "2021-05-25T18:35:32.243565Z",
          "shell.execute_reply.started": "2021-05-25T18:35:32.239296Z",
          "shell.execute_reply": "2021-05-25T18:35:32.242803Z"
        },
        "trusted": true,
        "id": "Cf4qy6258huL"
      },
      "execution_count": null,
      "outputs": []
    },
    {
      "cell_type": "code",
      "source": [
        "a.to_numpy()"
      ],
      "metadata": {
        "execution": {
          "iopub.status.busy": "2021-05-25T18:35:41.694799Z",
          "iopub.execute_input": "2021-05-25T18:35:41.696887Z",
          "iopub.status.idle": "2021-05-25T18:35:41.70232Z",
          "shell.execute_reply.started": "2021-05-25T18:35:41.696851Z",
          "shell.execute_reply": "2021-05-25T18:35:41.701664Z"
        },
        "trusted": true,
        "id": "ENUCqea68huM",
        "outputId": "4247bf18-cb79-41d6-cee0-f816f2e26392",
        "colab": {
          "base_uri": "https://localhost:8080/"
        }
      },
      "execution_count": null,
      "outputs": [
        {
          "output_type": "execute_result",
          "data": {
            "text/plain": [
              "array([1, 0, 0, 1, 1, 1, 1, 1, 1, 1, 1, 1, 1, 0, 1, 1, 1, 1, 1, 0, 1, 1,\n",
              "       0, 1, 1, 1, 1, 1, 1, 1, 1, 1, 1, 1, 0, 1, 1, 1, 1, 0, 1, 1, 1, 1,\n",
              "       1, 1, 0, 1, 1, 1, 1, 1, 1, 1, 1, 1, 1])"
            ]
          },
          "metadata": {},
          "execution_count": 123
        }
      ]
    },
    {
      "cell_type": "code",
      "source": [
        "y_test"
      ],
      "metadata": {
        "execution": {
          "iopub.status.busy": "2021-05-25T18:35:57.72357Z",
          "iopub.execute_input": "2021-05-25T18:35:57.724106Z",
          "iopub.status.idle": "2021-05-25T18:35:57.729191Z",
          "shell.execute_reply.started": "2021-05-25T18:35:57.724072Z",
          "shell.execute_reply": "2021-05-25T18:35:57.728462Z"
        },
        "trusted": true,
        "id": "h37R-3Z28huM",
        "outputId": "fe2d8e50-0144-4edb-a0b4-4171a486388c",
        "colab": {
          "base_uri": "https://localhost:8080/"
        }
      },
      "execution_count": null,
      "outputs": [
        {
          "output_type": "execute_result",
          "data": {
            "text/plain": [
              "array([1, 1, 0, 1, 1, 1, 1, 1, 1, 1, 1, 1, 1, 0, 1, 1, 1, 1, 1, 0, 1, 1,\n",
              "       0, 1, 1, 1, 1, 1, 1, 0, 1, 1, 1, 1, 0, 1, 1, 1, 1, 0, 1, 1, 1, 1,\n",
              "       1, 1, 0, 1, 1, 1, 1, 1, 1, 1, 1, 1, 1])"
            ]
          },
          "metadata": {},
          "execution_count": 124
        }
      ]
    },
    {
      "cell_type": "code",
      "source": [
        "# summarize score\n",
        "print('Model: auROC=%.3f' % (roc_auc_score(y_test, a)))\n",
        "# calculate roc curves\n",
        "lr_fpr, lr_tpr, _ = roc_curve(y_test, a)\n",
        "# plot the roc curve for the model\n",
        "pyplot.plot(lr_fpr, lr_tpr, marker='.', label='Model')\n",
        "# axis labels\n",
        "pyplot.xlabel('False Positive Rate')\n",
        "pyplot.ylabel('True Positive Rate')\n",
        "# show the legend\n",
        "pyplot.legend()\n",
        "# show the plot\n",
        "pyplot.show()"
      ],
      "metadata": {
        "execution": {
          "iopub.status.busy": "2021-05-25T18:37:28.846813Z",
          "iopub.execute_input": "2021-05-25T18:37:28.847408Z",
          "iopub.status.idle": "2021-05-25T18:37:29.029742Z",
          "shell.execute_reply.started": "2021-05-25T18:37:28.847368Z",
          "shell.execute_reply": "2021-05-25T18:37:29.028992Z"
        },
        "trusted": true,
        "id": "NupiQZb28huN",
        "outputId": "9ca39b24-4302-4122-bcf8-db0e35dd4772",
        "colab": {
          "base_uri": "https://localhost:8080/",
          "height": 467
        }
      },
      "execution_count": null,
      "outputs": [
        {
          "output_type": "stream",
          "name": "stdout",
          "text": [
            "Model: auROC=0.927\n"
          ]
        },
        {
          "output_type": "display_data",
          "data": {
            "text/plain": [
              "<Figure size 640x480 with 1 Axes>"
            ],
            "image/png": "[encoded data removed]"
          },
          "metadata": {}
        }
      ]
    },
    {
      "cell_type": "code",
      "source": [],
      "metadata": {
        "id": "5P_Nxkp88huN"
      },
      "execution_count": null,
      "outputs": []
    }
  ]
}